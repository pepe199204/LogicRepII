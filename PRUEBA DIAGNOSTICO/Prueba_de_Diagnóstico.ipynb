{
  "cells": [
    {
      "cell_type": "markdown",
      "metadata": {
        "id": "rsyQr-SRBb7f"
      },
      "source": [
        "# Prueba de Diagnóstico: Lógica y Representación II"
      ]
    },
    {
      "cell_type": "markdown",
      "metadata": {
        "id": "w0VYqpx7BiAm"
      },
      "source": [
        "Nombres y apellidos: Felipe Mendoza Peláez\n",
        "\n",
        "Número de Cédula o TI: 1040742852\n",
        "\n",
        "Correo Electrónico: felipe.mendozap@udea.edu.co"
      ]
    },
    {
      "cell_type": "markdown",
      "metadata": {
        "id": "cfqYLiprCEo3"
      },
      "source": [
        "## Ejercicio 1"
      ]
    },
    {
      "cell_type": "markdown",
      "metadata": {
        "id": "ONkasahQCIGk"
      },
      "source": [
        "Dado un arreglo de valores enteros positivos, $X = \\lbrack 2,4,6,8,10,11,12,14,16 \\rbrack$, se requiere un programa para cambiar el orden de los valores de forma descendente. Para que el programa sea eficiente, se requiere la menor cantidad posible de intercambios de sus valores."
      ]
    },
    {
      "cell_type": "code",
      "execution_count": null,
      "metadata": {
        "id": "MOvJro3zA0z5"
      },
      "outputs": [],
      "source": [
        "def Orden_Descendente(X):\n",
        "  # //\n",
        "  # punteros que van a recorrer el arreglo desde los extremos hacia el centro\n",
        "  izquierda = 0\n",
        "  derecha = len(X) - 1\n",
        "  Num_Intercambios = 0\n",
        "  \n",
        "  while izquierda < derecha:\n",
        "    # intercambio de los elementos en las posiciones derecha e izquierda\n",
        "    X[izquierda], X[derecha] = X[derecha], X[izquierda]\n",
        "    izquierda += 1\n",
        "    derecha -= 1\n",
        "    Num_Intercambios += 1\n",
        "  # //\n",
        "  return X, Num_Intercambios"
      ]
    },
    {
      "cell_type": "code",
      "execution_count": null,
      "metadata": {
        "id": "e1-HD978HVZB"
      },
      "outputs": [],
      "source": [
        "# Prueba\n",
        "\n",
        "X = [2,4,6,8,10,11,12,14,16]\n",
        "print(\"Valores iniciales: \", X)\n",
        "X_ordenado, Num_Intercambios = Orden_Descendente(X)\n",
        "print(\"Valores orden descendente \", X_ordenado)\n",
        "print(\"Número de intercambios igual a %d\" % (Num_Intercambios))"
      ]
    },
    {
      "cell_type": "markdown",
      "metadata": {
        "id": "W75C9hthIJJi"
      },
      "source": [
        "# Ejercicio 2"
      ]
    },
    {
      "cell_type": "markdown",
      "metadata": {
        "id": "TmSJzxwBJTTh"
      },
      "source": [
        "En una organización mundial de videogamers, se desea medir las habilidades de un conjunto de videogamers para determinar en cuál videojuego puede generar una mejor competencia para incrementar las expectativas al público en general que desea mayores emociones durante los torneos. De acuerdo con la organización mundial de videogamers, se seleccionó cuatro videojuegos para la asignación:\n",
        "\n",
        "1.   Fifa 2024.\n",
        "2.   Call of Duty: MW.\n",
        "3.   Death Stranding.\n",
        "4.   Flight Simulator.\n",
        "\n",
        "Cada videogamer tiene un porcentaje de habilidad entre 0 y 100%, el cual fueron medidos en test previos de cada videojuego.\n",
        "\n",
        "A partir de esta necesidad de la organización mundial de videogamers, el objetivo principal es identificar al mejor videogamer para cada videojuego, considerando los siguientes atributos:\n",
        "\n",
        "*   `nombre`: Nombre del jugador.\n",
        "*   `habilidades`: Un diccionario que almacene los porcentajes de habilidades en los videojuegos. Las claves del diccionario deben ser los nombres de los videojuegos y los valores deben ser los porcentajes de habilidades.\n",
        "\n",
        "Se sugiere crear una clase llamada *Asignacion* que contenga los siguientes métodos:\n",
        "\n",
        "`__init__(self)`: Inicializa una lista vacía de videogamers.\n",
        "\n",
        "`agregar_jugador(self, jugador)`: Agrega un objeto Videogamer a la lista de videogamers.\n",
        "\n",
        "`mejores_jugadores(self)`: Devuelve un diccionario con los mejores videogamers para cada videojuego. Las claves del diccionario deben ser los nombres de los videojuegos y los valores deben ser los nombres de los mejores videogamers.\n",
        "\n",
        "Es importante implementar un método para ingresar la información de los videogamers desde la entrada del usuario y verificar si el programa funciona apropiadamente.\n"
      ]
    },
    {
      "cell_type": "code",
      "execution_count": null,
      "metadata": {
        "id": "OJbtio8gJer6"
      },
      "outputs": [],
      "source": [
        "# SOLUCIÓN\n",
        "class Videogamer:\n",
        "    def __init__(self, nombre, habilidades):\n",
        "        self.nombre = nombre\n",
        "        self.habilidades = habilidades\n",
        "\n",
        "class Asignacion:\n",
        "    def __init__(self):\n",
        "        # Inicializa una lista vacía de videogamers\n",
        "        self.videogamers = []\n",
        "\n",
        "    def agregar_jugador(self, jugador):\n",
        "        # Agrega un objeto Videogamer a la lista de videogamers\n",
        "        self.videogamers.append(jugador)\n",
        "\n",
        "    def mejores_jugadores(self):\n",
        "        # Diccionario para almacenar los mejores jugadores por videojuego\n",
        "        mejores = {\n",
        "            \"Fifa 2024\": None,\n",
        "            \"Call of Duty: MW\": None,\n",
        "            \"Death Stranding\": None,\n",
        "            \"Flight Simulator\": None\n",
        "        }\n",
        "\n",
        "        # Recorre cada videojuego y cada jugador para encontrar el mejor\n",
        "        for videojuego in mejores.keys():\n",
        "            max_habilidad = -1\n",
        "            mejor_jugador = None\n",
        "\n",
        "            for jugador in self.videogamers:\n",
        "                if videojuego in jugador.habilidades:\n",
        "                    habilidad = jugador.habilidades[videojuego]\n",
        "                    if habilidad > max_habilidad:\n",
        "                        max_habilidad = habilidad\n",
        "                        mejor_jugador = jugador.nombre\n",
        "\n",
        "            mejores[videojuego] = mejor_jugador\n",
        "\n",
        "        return mejores\n",
        "\n",
        "def ingresar_datos(max_jugadores):\n",
        "    asignacion = Asignacion()\n",
        "\n",
        "    for i in range(max_jugadores):\n",
        "        nombre = input(f\"Ingrese el nombre del jugador {i+1}: \")\n",
        "        \n",
        "        habilidades = {}\n",
        "        for videojuego in [\"Fifa 2024\", \"Call of Duty: MW\", \"Death Stranding\", \"Flight Simulator\"]:\n",
        "            habilidad = float(input(f\"Ingrese la habilidad de {nombre} en {videojuego} (%): \"))\n",
        "            habilidades[videojuego] = habilidad\n",
        "\n",
        "        jugador = Videogamer(nombre, habilidades)\n",
        "        asignacion.agregar_jugador(jugador)\n",
        "\n",
        "    return asignacion"
      ]
    },
    {
      "cell_type": "code",
      "execution_count": null,
      "metadata": {},
      "outputs": [],
      "source": [
        "# Prueba\n",
        "num_jugadores = 2  # número de jugadores\n",
        "asignacion = ingresar_datos(num_jugadores)\n",
        "mejores_jugadores = asignacion.mejores_jugadores()\n",
        "\n",
        "print(\"\\nMejores jugadores por videojuego:\")\n",
        "for videojuego, jugador in mejores_jugadores.items():\n",
        "    print(f\"{videojuego}: {jugador}\")"
      ]
    }
  ],
  "metadata": {
    "colab": {
      "private_outputs": true,
      "provenance": [],
      "toc_visible": true
    },
    "kernelspec": {
      "display_name": "Python 3",
      "name": "python3"
    },
    "language_info": {
      "codemirror_mode": {
        "name": "ipython",
        "version": 3
      },
      "file_extension": ".py",
      "mimetype": "text/x-python",
      "name": "python",
      "nbconvert_exporter": "python",
      "pygments_lexer": "ipython3",
      "version": "3.12.4"
    }
  },
  "nbformat": 4,
  "nbformat_minor": 0
}
