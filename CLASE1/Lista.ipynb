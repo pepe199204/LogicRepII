{
  "cells": [
    {
      "cell_type": "markdown",
      "metadata": {
        "id": "TudVnACIbQyD"
      },
      "source": [
        "# Lista Simplemente Ligada"
      ]
    },
    {
      "cell_type": "code",
      "execution_count": null,
      "metadata": {
        "id": "onwKIdUcakLT"
      },
      "outputs": [],
      "source": [
        "class Nodo:\n",
        "      def __init__(self, valor): # Captura entrada\n",
        "      self.valor = valor\n",
        "      self.siguiente = None\n",
        "\n",
        "class LSL:\n",
        "  def __init__(self):\n",
        "    self.cabecera = None\n",
        "\n",
        "  def insertar(self, valor):\n",
        "    nuevo_nodo = Nodo(valor)\n",
        "    if self.cabecera is None:\n",
        "      self.cabecera = nuevo_nodo # Ingresar primer nodo\n",
        "    else:\n",
        "      nodo_actual = self.cabecera\n",
        "      while nodo_actual.siguiente: # nodo.actual.siguiente != None\n",
        "        nodo_actual = nodo_actual.siguiente # Asignar espacio de memoria\n",
        "      nodo_actual.siguiente = nuevo_nodo # Reemplazar nuevo nodo en el espacio disponible de memoria\n",
        "  \n",
        "  def imprimir(self):\n",
        "    if self.cabecera is None:\n",
        "      print(\"La LSL está vacía\")\n",
        "    else:\n",
        "      nodo_actual = self.cabecera\n",
        "      while nodo_actual: # nodo.actual != None\n",
        "        print(nodo_actual.valor, end = \"->\")\n",
        "        nodo_actual = nodo_actual.siguiente\n",
        "      print(\"None\")\n",
        "  \n",
        "  def buscar(self, x_obj):\n",
        "    nodo_actual = self.cabecera\n",
        "    pos = 0\n",
        "    while nodo_actual: # nodo.actual != None\n",
        "      if nodo_actual.valor == x_obj:\n",
        "        print(\"El valor {:.0f} esta en la posición {:.0f}\".format(nodo_actual.valor, pos)) #f => valor flotante  0 => entero\n",
        "        return True\n",
        "      nodo_actual = nodo_actual.siguiente\n",
        "      pos += 1 # pos = pos + 1\n",
        "    print(\"El valor no se encontró\")\n",
        "    return False"
      ]
    },
    {
      "cell_type": "code",
      "execution_count": null,
      "metadata": {
        "id": "lssV3Zp6im-r"
      },
      "outputs": [],
      "source": [
        "Lista = LSL()\n",
        "Lista.insertar(2)\n",
        "Lista.insertar(5)\n",
        "Lista.insertar(10)\n",
        "Lista.imprimir()"
      ]
    },
    {
      "cell_type": "code",
      "execution_count": null,
      "metadata": {
        "id": "ipm76JmgpjFT"
      },
      "outputs": [],
      "source": [
        "Lista.buscar(100)"
      ]
    }
  ],
  "metadata": {
    "colab": {
      "private_outputs": true,
      "provenance": [],
      "toc_visible": true
    },
    "kernelspec": {
      "display_name": "Python 3",
      "name": "python3"
    },
    "language_info": {
      "name": "python"
    }
  },
  "nbformat": 4,
  "nbformat_minor": 0
}
