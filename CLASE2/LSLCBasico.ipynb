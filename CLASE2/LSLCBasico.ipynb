{
  "nbformat": 4,
  "nbformat_minor": 0,
  "metadata": {
    "colab": {
      "private_outputs": true,
      "provenance": [],
      "toc_visible": true
    },
    "kernelspec": {
      "name": "python3",
      "display_name": "Python 3"
    },
    "language_info": {
      "name": "python"
    }
  },
  "cells": [
    {
      "cell_type": "code",
      "execution_count": null,
      "metadata": {
        "id": "wuaEZkdnUN3K"
      },
      "outputs": [],
      "source": [
        "class Nodo:\n",
        "  def __init__(self, valor):\n",
        "    self.valor = valor\n",
        "    self.siguiente = None\n",
        "\n",
        "class LSLC:\n",
        "\n",
        "  def __init__(self):\n",
        "    self.cabecera = None\n",
        "    self.fin = None\n",
        "\n",
        "  def InsertarPrimerNodo(self, valor):\n",
        "    if self.fin != None: # Si LSLC esta vacia\n",
        "      return self.fin\n",
        "    nuevo_nodo = Nodo(valor)\n",
        "    self.fin = nuevo_nodo\n",
        "    self.fin.siguiente = self.fin\n",
        "    self.cabecera = self.fin\n",
        "    return self.fin\n",
        "\n",
        "  def InsertaralInicio(self, valor):\n",
        "    if self.fin == None:\n",
        "      return self.InsertarPrimerNodo(valor)\n",
        "    nuevo_nodo = Nodo(valor)\n",
        "    nuevo_nodo.siguiente = self.fin.siguiente # Generar un nuevo espacio de memoria\n",
        "    self.fin.siguiente = nuevo_nodo # colocar el nodo en el nuevo espacio de memoria\n",
        "    return self.fin\n",
        "\n",
        "  def InsertaralFinal(self, valor):\n",
        "    if self.fin == None:\n",
        "      return self.InsertarPrimerNodo(valor)\n",
        "    nuevo_nodo = Nodo(valor)\n",
        "    nuevo_nodo.siguiente = self.fin.siguiente # Generar un nuevo espacio de memoria\n",
        "    self.fin.siguiente = nuevo_nodo # colocar el nodo en el nuevo espacio de memoria\n",
        "    self.fin = nuevo_nodo # colocar el nuevo nodo en el puntero fin\n",
        "    return self.fin\n",
        "\n",
        "  def Imprimir(self):\n",
        "    if self.fin == None:\n",
        "      print(\"La LSLC esta vacia\")\n",
        "      return\n",
        "    nodo_actual = self.fin.siguiente # Ubicar en el último nodo a la izquierda (Insertar al inicio)\n",
        "                                     # Ubicar en la cabecera (Insertar al final)\n",
        "    while nodo_actual != None:\n",
        "      print(nodo_actual.valor, end = \"->\")\n",
        "      nodo_actual = nodo_actual.siguiente\n",
        "      if nodo_actual == self.fin.siguiente:\n",
        "        break # Se detiene la impresión\n",
        "    print(\"None\")"
      ]
    },
    {
      "cell_type": "code",
      "source": [
        "Lista = LSLC()\n",
        "Lista.InsertaralInicio(11) # cabecera\n",
        "Lista.InsertaralInicio(9)\n",
        "Lista.InsertaralInicio(7)\n",
        "Lista.InsertaralInicio(4)\n",
        "Lista.Imprimir()"
      ],
      "metadata": {
        "id": "s2LyD6s_YXNs"
      },
      "execution_count": null,
      "outputs": []
    },
    {
      "cell_type": "code",
      "source": [
        "Lista.InsertaralFinal(15)\n",
        "Lista.InsertaralFinal(18)\n",
        "Lista.InsertaralFinal(20)\n",
        "Lista.Imprimir()"
      ],
      "metadata": {
        "id": "18vKWr4fYurj"
      },
      "execution_count": null,
      "outputs": []
    }
  ]
}