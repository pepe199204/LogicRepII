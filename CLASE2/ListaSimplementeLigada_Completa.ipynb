{
  "nbformat": 4,
  "nbformat_minor": 0,
  "metadata": {
    "colab": {
      "private_outputs": true,
      "provenance": [],
      "toc_visible": true
    },
    "kernelspec": {
      "name": "python3",
      "display_name": "Python 3"
    },
    "language_info": {
      "name": "python"
    }
  },
  "cells": [
    {
      "cell_type": "markdown",
      "source": [
        "# Lista Simplemente Ligada"
      ],
      "metadata": {
        "id": "MrFQpVjFp9xX"
      }
    },
    {
      "cell_type": "code",
      "execution_count": null,
      "metadata": {
        "id": "Dqt3L4OPgKmg"
      },
      "outputs": [],
      "source": [
        "class Nodo:\n",
        "  def __init__(self, valor):\n",
        "    self.valor = valor\n",
        "    self.siguiente = None\n",
        "\n",
        "class LSL:\n",
        "  def __init__(self):\n",
        "    self.cabecera = None\n",
        "\n",
        "  def insertar(self, valor):\n",
        "    nuevo_nodo = Nodo(valor)\n",
        "    if self.cabecera is None:\n",
        "      self.cabecera = nuevo_nodo\n",
        "    else:\n",
        "      nodo_actual = self.cabecera\n",
        "      while nodo_actual.siguiente:\n",
        "        nodo_actual = nodo_actual.siguiente # Asignar espacio de memoria\n",
        "      nodo_actual.siguiente = nuevo_nodo # reemplazar un valor en ese espacio de memoria\n",
        "\n",
        "  def imprimir(self):\n",
        "    if self.cabecera is None:\n",
        "      print(\"La LSL esta vacia\")\n",
        "    else:\n",
        "      nodo_actual = self.cabecera\n",
        "      while nodo_actual: # nodo_actual != None\n",
        "        print(nodo_actual.valor, end = \"->\")\n",
        "        nodo_actual = nodo_actual.siguiente\n",
        "      print(\"None\")\n",
        "\n",
        "  def buscar(self, X_obj):\n",
        "    nodo_actual = self.cabecera\n",
        "    pos = 0\n",
        "    while nodo_actual:\n",
        "      if nodo_actual.valor == X_obj:\n",
        "        print(\"El valor {:.0f} encontrado en la posición {:.0f}\".format(X_obj, pos))\n",
        "        return True\n",
        "      nodo_actual = nodo_actual.siguiente\n",
        "      pos += 1 # pos = pos + 1\n",
        "    print(\"Valor no encontrado\")\n",
        "    return False\n",
        "\n",
        "  def eliminarinicio(self):\n",
        "    if self.cabecera is None:\n",
        "      print(\"La LSL esta vacía\")\n",
        "      return\n",
        "    else:\n",
        "      self.cabecera = self.cabecera.siguiente\n",
        "      nodo_actual = self.cabecera\n",
        "\n",
        "  def eliminarcualquiera(self, x_valor):\n",
        "    nodo_actual = self.cabecera\n",
        "    if self.cabecera is None:\n",
        "      print(\"La LSL está vacía\")\n",
        "      return None\n",
        "    if nodo_actual is not None:\n",
        "      if nodo_actual.valor == x_valor:\n",
        "        self.cabecera = nodo_actual.siguiente\n",
        "        nodo_actual = None\n",
        "        return\n",
        "    while nodo_actual is not None:\n",
        "      if nodo_actual.valor == x_valor:\n",
        "        break\n",
        "      previo = nodo_actual\n",
        "      nodo_actual = nodo_actual.siguiente\n",
        "    previo.siguiente = nodo_actual.siguiente\n",
        "    nodo_actual = None\n",
        "\n",
        "  def intercambio(self, nodo_1, nodo_2):\n",
        "    nodo_1.valor, nodo_2.valor = nodo_2.valor, nodo_1.valor\n",
        "\n",
        "  def ordernar(self, opcion):\n",
        "    if self.cabecera is None or self.cabecera.siguiente is None:\n",
        "      return\n",
        "    cambiar = True\n",
        "    while cambiar == True:\n",
        "      cambiar = False\n",
        "      nodo_actual = self.cabecera\n",
        "      while nodo_actual.siguiente is not None:\n",
        "        match opcion:\n",
        "          case \"ascendente\":\n",
        "            if nodo_actual.valor > nodo_actual.siguiente.valor:\n",
        "              self.intercambio(nodo_actual, nodo_actual.siguiente)\n",
        "              cambiar = True\n",
        "            nodo_actual = nodo_actual.siguiente\n",
        "          case \"descendente\":\n",
        "            if nodo_actual.valor < nodo_actual.siguiente.valor:\n",
        "              self.intercambio(nodo_actual, nodo_actual.siguiente)\n",
        "              cambiar = True\n",
        "            nodo_actual = nodo_actual.siguiente\n",
        "\n",
        "  def nodo_medio(self, cab, fin): # Sugerencia: usar self.cabecera como cab para evitar ciclos infinitos\n",
        "                                  # debido a que nodo_medio es una función que se utiliza en la función\n",
        "                                  # principal buscar_binario\n",
        "    if cab is None:\n",
        "      return None\n",
        "    F, L = cab, cab.siguiente\n",
        "    while L != fin:\n",
        "      L = L.siguiente\n",
        "      if L != fin:\n",
        "        L = L.siguiente\n",
        "        F = F.siguiente\n",
        "    return F\n",
        "\n",
        "  def buscar_binario(self, x_valor):\n",
        "    nodo_actual = self.cabecera\n",
        "    fin = None\n",
        "    while True:\n",
        "      H = self.nodo_medio(nodo_actual, fin)\n",
        "      if H == None:\n",
        "        return None\n",
        "      if H.valor == x_valor:\n",
        "        return print(\"Valor {:.0f} encontrado en la LSL\".format(H.valor))\n",
        "      elif H.valor < x_valor:\n",
        "        nodo_actual = H.siguiente\n",
        "      else:\n",
        "        fin = H\n",
        "      if not(fin == None or fin != nodo_actual):\n",
        "        break\n",
        "    return print(\"Valor {:.0f} NO fue encontrado en la LSL\".format(x_valor))"
      ]
    },
    {
      "cell_type": "code",
      "source": [
        "Lista = LSL()\n",
        "Lista.insertar(2)\n",
        "Lista.insertar(1)\n",
        "Lista.insertar(10)\n",
        "Lista.insertar(24)\n",
        "Lista.insertar(8)\n",
        "Lista.imprimir()"
      ],
      "metadata": {
        "id": "WaCpr8T8x5Nc"
      },
      "execution_count": null,
      "outputs": []
    },
    {
      "cell_type": "code",
      "source": [
        "Lista.buscar(10)"
      ],
      "metadata": {
        "id": "jo7GUJa24Xr2"
      },
      "execution_count": null,
      "outputs": []
    },
    {
      "cell_type": "code",
      "source": [
        "Lista.ordernar(\"ascendente\")\n",
        "Lista.imprimir()\n",
        "Lista.buscar_binario(10)"
      ],
      "metadata": {
        "id": "nii1l8CdHbhp"
      },
      "execution_count": null,
      "outputs": []
    },
    {
      "cell_type": "code",
      "source": [
        "Lista.eliminarinicio()\n",
        "Lista.imprimir()"
      ],
      "metadata": {
        "id": "5U-IVVUu6Qw0"
      },
      "execution_count": null,
      "outputs": []
    },
    {
      "cell_type": "code",
      "source": [
        "Lista.eliminarcualquiera(8)\n",
        "Lista.imprimir()"
      ],
      "metadata": {
        "id": "4hyLN2yFNPZU"
      },
      "execution_count": null,
      "outputs": []
    }
  ]
}