{
  "cells": [
    {
      "cell_type": "code",
      "execution_count": 1,
      "metadata": {
        "id": "K_5Fw7mYRz5i"
      },
      "outputs": [],
      "source": [
        "class CrearNodo:\n",
        "  def __init__(self, valor):\n",
        "    self.valor = valor\n",
        "    self.siguiente = None\n",
        "\n",
        "class LSLC:\n",
        "  def __init__(self):\n",
        "    self.fin = None\n",
        "    self.cabecera = None\n",
        "\n",
        "  def InsertarConNULL(self, valor):\n",
        "    if (self.fin != None):\n",
        "      return self.fin\n",
        "    Nuevo_Nodo = CrearNodo(valor)\n",
        "    self.fin = Nuevo_Nodo\n",
        "    self.fin.siguiente = self.fin\n",
        "    self.cabecera = self.fin\n",
        "    return self.fin\n",
        "\n",
        "  def InsertarInicio(self, valor):\n",
        "    if (self.fin == None):\n",
        "      return self.InsertarConNULL(valor)\n",
        "    Nuevo_Nodo = CrearNodo(valor)\n",
        "    Nuevo_Nodo.siguiente = self.fin.siguiente\n",
        "    self.fin.siguiente = Nuevo_Nodo\n",
        "    return self.fin\n",
        "\n",
        "  def InsertarFinal(self, valor):\n",
        "    if (self.fin == None):\n",
        "      return self.InsertarConNULL(valor)\n",
        "    Nuevo_Nodo = CrearNodo(valor)\n",
        "    Nuevo_Nodo.siguiente = self.fin.siguiente\n",
        "    self.fin.siguiente = Nuevo_Nodo\n",
        "    self.fin = Nuevo_Nodo\n",
        "    return self.fin\n",
        "\n",
        "  def InsertarCualquiera(self, valor, nodo_ref):\n",
        "    if (self.fin == None):\n",
        "      return None\n",
        "    Nuevo_Nodo = CrearNodo(valor)\n",
        "    F = self.fin.siguiente\n",
        "    while F:\n",
        "      if (F.valor == nodo_ref):\n",
        "        Nuevo_Nodo.siguiente = F.siguiente\n",
        "        F.siguiente = Nuevo_Nodo\n",
        "        if (F == self.fin):\n",
        "          self.fin = Nuevo_Nodo\n",
        "          return self.fin\n",
        "        else:\n",
        "          return self.fin\n",
        "      F = F.siguiente\n",
        "      if (F == self.fin.siguiente):\n",
        "        print(nodo_ref, \"Fuera de la LSLC\")\n",
        "        break\n",
        "\n",
        "  def EliminarLSLC(self, cabecera, valor_eliminar) :\n",
        "    if (self.cabecera == None):\n",
        "      return\n",
        "    if(self.cabecera.valor == valor_eliminar and self.cabecera.siguiente == cabecera):\n",
        "      self.cabecera = None\n",
        "    self.fin = self.cabecera\n",
        "    F = None\n",
        "    if self.cabecera.valor == valor_eliminar:\n",
        "      while(self.fin.siguiente != self.cabecera):\n",
        "        self.fin = self.fin.siguiente\n",
        "      self.fin.siguiente = self.cabecera.siguiente\n",
        "      self.cabecera = self.fin.siguiente\n",
        "    while (self.fin.siguiente != self.cabecera and self.fin.siguiente.valor != valor_eliminar):\n",
        "      self.fin = self.fin.siguiente\n",
        "    if (self.fin.siguiente.valor == valor_eliminar):\n",
        "      F = self.fin.siguiente\n",
        "      self.fin.siguiente = F.siguiente\n",
        "    else:\n",
        "      print(\"No se encontro el valor\")\n",
        "    return self.cabecera\n",
        "\n",
        "  def ImprimirLSLC(self):\n",
        "    if (self.fin == None):\n",
        "      print(\"LSLC vacia.\")\n",
        "      return\n",
        "    Nuevo_Nodo = self.fin.siguiente\n",
        "    while Nuevo_Nodo:\n",
        "      print(Nuevo_Nodo.valor, end = \" -> \")\n",
        "      Nuevo_Nodo = Nuevo_Nodo.siguiente\n",
        "      if Nuevo_Nodo == self.fin.siguiente:\n",
        "        break\n",
        "    print(\"None\")"
      ]
    },
    {
      "cell_type": "code",
      "execution_count": 2,
      "metadata": {
        "id": "UePTXqtDR19l"
      },
      "outputs": [
        {
          "name": "stdout",
          "output_type": "stream",
          "text": [
            "5 -> None\n"
          ]
        }
      ],
      "source": [
        "LC = LSLC()\n",
        "LC.InsertarConNULL(5)\n",
        "LC.ImprimirLSLC()"
      ]
    },
    {
      "cell_type": "code",
      "execution_count": 3,
      "metadata": {
        "id": "SaLSlVOxYKyv"
      },
      "outputs": [
        {
          "name": "stdout",
          "output_type": "stream",
          "text": [
            "7 -> 5 -> None\n"
          ]
        }
      ],
      "source": [
        "LC.InsertarInicio(7)\n",
        "LC.ImprimirLSLC()"
      ]
    },
    {
      "cell_type": "code",
      "execution_count": 4,
      "metadata": {
        "id": "aGSKa7hWYRv3"
      },
      "outputs": [
        {
          "name": "stdout",
          "output_type": "stream",
          "text": [
            "7 -> 5 -> 80 -> None\n"
          ]
        }
      ],
      "source": [
        "LC.InsertarFinal(80)\n",
        "LC.ImprimirLSLC()"
      ]
    },
    {
      "cell_type": "code",
      "execution_count": 5,
      "metadata": {
        "id": "4XMVFDspYiPW"
      },
      "outputs": [
        {
          "name": "stdout",
          "output_type": "stream",
          "text": [
            "7 -> 5 -> 8 -> 80 -> None\n"
          ]
        }
      ],
      "source": [
        "LC.InsertarCualquiera(8, 5)\n",
        "LC.ImprimirLSLC()"
      ]
    },
    {
      "cell_type": "code",
      "execution_count": 6,
      "metadata": {
        "id": "Lyn53pDBe1dT"
      },
      "outputs": [
        {
          "name": "stdout",
          "output_type": "stream",
          "text": [
            "7 -> 5 -> 8 -> None\n"
          ]
        }
      ],
      "source": [
        "LC.EliminarLSLC(LC.cabecera, 80)\n",
        "LC.ImprimirLSLC()"
      ]
    }
  ],
  "metadata": {
    "colab": {
      "private_outputs": true,
      "provenance": [],
      "toc_visible": true
    },
    "kernelspec": {
      "display_name": "Python 3",
      "name": "python3"
    },
    "language_info": {
      "codemirror_mode": {
        "name": "ipython",
        "version": 3
      },
      "file_extension": ".py",
      "mimetype": "text/x-python",
      "name": "python",
      "nbconvert_exporter": "python",
      "pygments_lexer": "ipython3",
      "version": "3.12.4"
    }
  },
  "nbformat": 4,
  "nbformat_minor": 0
}
