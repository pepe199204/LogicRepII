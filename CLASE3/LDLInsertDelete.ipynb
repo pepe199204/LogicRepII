{
 "cells": [
  {
   "cell_type": "code",
   "execution_count": 6,
   "metadata": {},
   "outputs": [],
   "source": [
    "class Nodo:\n",
    "    \n",
    "    def __init__(self, valor):\n",
    "        self.valor = valor\n",
    "        self.siguiente = None\n",
    "        self.anterior = None\n",
    "\n",
    "class LDL:\n",
    "    \n",
    "    def __init__(self):\n",
    "        self.cabecera = None\n",
    "    \n",
    "    def insertar_al_inicio(self, valor):\n",
    "        nuevo_nodo = Nodo(valor)\n",
    "        nuevo_nodo.siguiente = self.cabecera\n",
    "        nuevo_nodo.anterior = None\n",
    "        if self.cabecera is not None:\n",
    "            self.cabecera.anterior = nuevo_nodo\n",
    "        self.cabecera = nuevo_nodo\n",
    "    \n",
    "    def insertar_al_final(self, valor):\n",
    "        nuevo_nodo = Nodo(valor)\n",
    "        if self.cabecera is None: # Ingresar el primero nodo\n",
    "            self.cabecera = nuevo_nodo\n",
    "            return\n",
    "        nodo_actual = self.cabecera\n",
    "        while nodo_actual.siguiente != None:\n",
    "            nodo_actual = nodo_actual.siguiente\n",
    "        nodo_actual.siguiente = nuevo_nodo\n",
    "        nuevo_nodo.anterior = nodo_actual\n",
    "        \n",
    "    def imprimir(self):\n",
    "        nodo_actual = self.cabecera\n",
    "        while nodo_actual != None:\n",
    "            print(nodo_actual.valor, end = \"<-->\")\n",
    "            nodo_actual = nodo_actual.siguiente\n",
    "        print(\"None\")"
   ]
  },
  {
   "cell_type": "code",
   "execution_count": 5,
   "metadata": {},
   "outputs": [
    {
     "name": "stdout",
     "output_type": "stream",
     "text": [
      "7<-->17<-->25<-->None\n"
     ]
    }
   ],
   "source": [
    "lista = LDL()\n",
    "lista.insertar_al_final(7)\n",
    "lista.insertar_al_final(17)\n",
    "lista.insertar_al_final(25)\n",
    "lista.imprimir()"
   ]
  },
  {
   "cell_type": "code",
   "execution_count": 7,
   "metadata": {},
   "outputs": [
    {
     "name": "stdout",
     "output_type": "stream",
     "text": [
      "17<-->10<-->8<-->None\n"
     ]
    }
   ],
   "source": [
    "lista1 = LDL()\n",
    "lista1.insertar_al_inicio(8)\n",
    "lista1.insertar_al_inicio(10)\n",
    "lista1.insertar_al_inicio(17)\n",
    "lista1.imprimir()\n",
    "\n"
   ]
  },
  {
   "cell_type": "code",
   "execution_count": 9,
   "metadata": {},
   "outputs": [
    {
     "name": "stdout",
     "output_type": "stream",
     "text": [
      "9<-->5<-->10<-->None\n"
     ]
    }
   ],
   "source": [
    "lista2 = LDL()\n",
    "lista2.insertar_al_inicio(5)\n",
    "lista2.insertar_al_final(10)\n",
    "lista2.insertar_al_inicio(9)\n",
    "lista2.imprimir()"
   ]
  }
 ],
 "metadata": {
  "kernelspec": {
   "display_name": "Python 3",
   "language": "python",
   "name": "python3"
  },
  "language_info": {
   "codemirror_mode": {
    "name": "ipython",
    "version": 3
   },
   "file_extension": ".py",
   "mimetype": "text/x-python",
   "name": "python",
   "nbconvert_exporter": "python",
   "pygments_lexer": "ipython3",
   "version": "3.12.4"
  }
 },
 "nbformat": 4,
 "nbformat_minor": 2
}
