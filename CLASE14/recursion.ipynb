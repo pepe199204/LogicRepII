{
 "cells": [
  {
   "cell_type": "markdown",
   "metadata": {},
   "source": [
    "División del problema en subproblemas(Fuerza brutal)"
   ]
  },
  {
   "cell_type": "code",
   "execution_count": 1,
   "metadata": {},
   "outputs": [],
   "source": [
    "def particion(x, l, r): # l puntero en el extremo izq, r en el derecho.\n",
    "    p = x[r] # selecionar el valor de x en el extremo derecho\n",
    "    i = l - 1\n",
    "    for j in range(l, r):\n",
    "        if x[j] <= p: # Para ordernar de mayor a menor, cambiar <= por >=\n",
    "            i += 1\n",
    "            x[i], x[j] = x[j], x[i] # Intercambio al lado izq (Valores menores al pivote)\n",
    "    x[i+1], x[r] = x[r], x[i+1] # Intecarmbio lado derecho\n",
    "    return i + 1 # Mejor pivote"
   ]
  },
  {
   "cell_type": "markdown",
   "metadata": {},
   "source": [
    "## Mezcla de soluciones(Recursiva)"
   ]
  },
  {
   "cell_type": "code",
   "execution_count": 2,
   "metadata": {},
   "outputs": [],
   "source": [
    "def QuickSort(x, l, r):\n",
    "    if l < r:\n",
    "        pivote = particion(x, l, r)\n",
    "        QuickSort(x, l, pivote - 1) # Ordernar los valores menores al pivote\n",
    "        QuickSort(x, pivote + 1, r) # Ordernar los valores mayores al pivote\n",
    "        "
   ]
  },
  {
   "cell_type": "markdown",
   "metadata": {},
   "source": [
    "## Prueba"
   ]
  },
  {
   "cell_type": "code",
   "execution_count": 3,
   "metadata": {},
   "outputs": [
    {
     "name": "stdout",
     "output_type": "stream",
     "text": [
      "[10, 9, 8, 5, 1, 4, 3]\n",
      "[1, 3, 4, 5, 8, 9, 10]\n"
     ]
    }
   ],
   "source": [
    "x = [10, 9, 8, 5, 1, 4, 3]\n",
    "print(x)\n",
    "l, r = 0, len(x) - 1\n",
    "QuickSort(x, l, r)\n",
    "print(x)"
   ]
  },
  {
   "cell_type": "markdown",
   "metadata": {},
   "source": [
    "## MergeSort"
   ]
  },
  {
   "cell_type": "code",
   "execution_count": 6,
   "metadata": {},
   "outputs": [
    {
     "name": "stdout",
     "output_type": "stream",
     "text": [
      "x =  [5, 11, 17, 2, 4, 3, 18, 12]\n",
      "x =  [2, 3, 4, 5, 11, 12, 17, 18]\n"
     ]
    }
   ],
   "source": [
    "def MergeSort(x):\n",
    "    #División de los problemas(Recursiva)\n",
    "    # x = [4, 9, 1, 5, 7, 6]\n",
    "    # l = [4, 9, 1]\n",
    "    # r = [5, 7, 6]\n",
    "    if len(x) > 1:\n",
    "        m = len(x) // 2\n",
    "        l = x[:m]\n",
    "        r = x[m:]\n",
    "        MergeSort(l)\n",
    "        MergeSort(r)\n",
    "# Unir las soluciones (fuerza bruta)\n",
    "# l[i=0] <= r[j = 0]\n",
    "# 4 <= 5? SI\n",
    "# x[k] = l[i] -----> x[k=0] = 4\n",
    "# x = [4, 9, 1, 5, 7, 6]\n",
    "        i, j, k = 0, 0, 0\n",
    "        while i < len(l) and j < len(r): # Pasar los valores más pequeños al lado izq(l) y los más grandes(r)\n",
    "            if l[i] <= r[j]:\n",
    "                x[k] = l[i]\n",
    "                i += 1\n",
    "            else:\n",
    "                x[k] = r[j]\n",
    "                j += 1\n",
    "            k += 1\n",
    "            \n",
    "        # Ordernar el lado izq con los valores más pequeños\n",
    "        while i < len(l):\n",
    "            x[k] = l[i]\n",
    "            i += 1\n",
    "            k += 1\n",
    "            \n",
    "        #Ordernar el lado derecho con los valores más grandes\n",
    "        while j < len(r):\n",
    "            x[k] = r[j]\n",
    "            j += 1\n",
    "            k += 1\n",
    "    \n",
    "def imprimir(x):\n",
    "    print(\"x = \", x)\n",
    "\n",
    "if __name__ == '__main__': # Para utilizar dos funciones en una misma celda\n",
    "    x = [5, 11, 17, 2, 4, 3, 18, 12]\n",
    "    imprimir(x)\n",
    "    MergeSort(x)\n",
    "    imprimir(x)"
   ]
  },
  {
   "cell_type": "markdown",
   "metadata": {},
   "source": [
    "## QSelect\n",
    "## Patición(Fuerza Brutal) - encontrar pivote   "
   ]
  },
  {
   "cell_type": "code",
   "execution_count": 7,
   "metadata": {},
   "outputs": [],
   "source": [
    "def particion(x, l, r):\n",
    "    x_seleccionado = x[r]\n",
    "    i = l\n",
    "    for j in range(l, r):\n",
    "        if x[j] <= x_seleccionado:\n",
    "            x[i], x[j] = x[j], x[i]\n",
    "            i += 1\n",
    "    x[i], x[r] = x[r], x[i]\n",
    "    return i #utilizar posteriormente p = 1(el primer valor más pequeño)"
   ]
  },
  {
   "cell_type": "markdown",
   "metadata": {},
   "source": [
    "## Mezcla de las soluciones para encontrar el valor deseado(Recursiva)"
   ]
  },
  {
   "cell_type": "code",
   "execution_count": 8,
   "metadata": {},
   "outputs": [],
   "source": [
    "# x = [4, 1, 6, 5, 9, 10]\n",
    "# l = 0\n",
    "# r = len(x) - 1 = 6 - 1 = 5\n",
    "# r - l + 1 = 5 - 0 + 1 = 6\n",
    "def quickSelect(x, l ,r, p): # p es para decir cuál es el valor más pequeño\n",
    "    if (p > 0) and (p <= r - l + 1):\n",
    "        pivote = particion(x, l, r)\n",
    "        if (pivote - l)  == (p - 1): # el valor deseado está en el pivote\n",
    "            return x[pivote]\n",
    "        if (pivote - l) > (p - 1):\n",
    "            return quickSelect(x, l, pivote - 1, p) # Hacer la búsqueda al lado izq de la lista\n",
    "        else:\n",
    "            return quickSelect(x, pivote + 1, r, p - pivote + l - 1) # Hacer la búsqueda al lado derecho\n",
    "    print(\"El valor p esta por fuera de la longitud de la lista x\")\n"
   ]
  },
  {
   "cell_type": "markdown",
   "metadata": {},
   "source": [
    "## Prueba"
   ]
  },
  {
   "cell_type": "code",
   "execution_count": 19,
   "metadata": {},
   "outputs": [
    {
     "name": "stdout",
     "output_type": "stream",
     "text": [
      "El valor más pequeño de p es 4\n",
      "3\n"
     ]
    }
   ],
   "source": [
    "x = [10, 8, 9, 1, 1, 1, 3, 5]\n",
    "l, r = 0, len(x) - 1\n",
    "p = 4\n",
    "print(\"El valor más pequeño de p es {:.0f}\".format(p))\n",
    "print(quickSelect(x, l, r, p))"
   ]
  }
 ],
 "metadata": {
  "kernelspec": {
   "display_name": "Python 3",
   "language": "python",
   "name": "python3"
  },
  "language_info": {
   "codemirror_mode": {
    "name": "ipython",
    "version": 3
   },
   "file_extension": ".py",
   "mimetype": "text/x-python",
   "name": "python",
   "nbconvert_exporter": "python",
   "pygments_lexer": "ipython3",
   "version": "3.12.4"
  }
 },
 "nbformat": 4,
 "nbformat_minor": 2
}
