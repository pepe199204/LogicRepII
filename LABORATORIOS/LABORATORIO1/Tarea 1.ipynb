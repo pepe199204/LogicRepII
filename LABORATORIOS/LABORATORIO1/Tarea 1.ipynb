{
  "cells": [
    {
      "cell_type": "markdown",
      "metadata": {
        "id": "RA2MsnIIPkVH"
      },
      "source": [
        "# Tarea 1: Manejo Dinámico de Memoría"
      ]
    },
    {
      "cell_type": "markdown",
      "metadata": {
        "id": "Q-4lJXtOQkfW"
      },
      "source": [
        "*   *Nombres y Apellidos:* Felipe Mendoza Peláez\n",
        "*   *CC o TI:* 1040742852\n",
        "\n",
        "*   *Nombres y Apellidos:*\n",
        "*   *CC o TI:*\n",
        "\n",
        "*   *Nombres y Apellidos:*\n",
        "*   *CC o TI:*\n",
        "\n",
        "*   *Nombres y Apellidos:*\n",
        "*   *CC o TI:*"
      ]
    },
    {
      "cell_type": "markdown",
      "metadata": {
        "id": "pwnlInu2njuE"
      },
      "source": [
        "**Fecha límite de entrega**: 2 de septiembre de 2024, antes de las 11:59 pm"
      ]
    },
    {
      "cell_type": "markdown",
      "metadata": {
        "id": "nZw4PZEIROUn"
      },
      "source": [
        "## Objetivo de Aprendizaje para la Tarea 1"
      ]
    },
    {
      "cell_type": "markdown",
      "metadata": {
        "id": "udfxM8XNRTXl"
      },
      "source": [
        "Analizar la descripción del problema de manejo dinámico de memoría por medio de la identificación de la estructura de datos más apropiada y el diseño de un algoritmo para generar una solución."
      ]
    },
    {
      "cell_type": "markdown",
      "metadata": {
        "id": "YefVixPWSBAP"
      },
      "source": [
        "## Descripción General de la Tarea 1"
      ]
    },
    {
      "cell_type": "markdown",
      "metadata": {
        "id": "flo3_YjhSNpm"
      },
      "source": [
        "La Tarea 1 esta diseñado para ser desarrollado por equipos de trabajo de 3 o 4 estudiantes, el cual resolveran 5 ejercicios de manejo dinámico de memoría. Los problemas planteados están enfocados en estructuras de datos basados en listas ligadas, colas y pilas, explicados en clases sincrónicas. Cada problema debe contener el diseño del algoritmo, los resultados con las pruebas solicitadas y una explicación del algoritmo."
      ]
    },
    {
      "cell_type": "markdown",
      "metadata": {
        "id": "-B1AFOG9TRlO"
      },
      "source": [
        "## Ejercicios"
      ]
    },
    {
      "cell_type": "markdown",
      "metadata": {
        "id": "0cQZm-XxTV_v"
      },
      "source": [
        "### Ejercicio 1: Concatenación de LSL"
      ]
    },
    {
      "cell_type": "markdown",
      "metadata": {
        "id": "IHXk3gd_T0dR"
      },
      "source": [
        "**Descripción:** Dado dos LSL, *Lista_1* y *Lista_2*, diseñe un algoritmo que permita concatenar ambas listas en una nueva LSL. Posteriormente, la nueva LSL debe estar ordenada de forma ascendente para retornar al usuario la LSL final.\n",
        "\n",
        "**Idea:** Si $Lista_1 = 5 \\rightarrow 7 \\rightarrow 8 \\rightarrow NULL$ y $Lista_2 = 7 \\rightarrow 5 \\rightarrow 2 \\rightarrow NULL$, la nueva LSL, $NuevaLSL = 2 → 5 → 5 \\rightarrow 7 → 7 \\rightarrow 8 → NULL$"
      ]
    },
    {
      "cell_type": "code",
      "execution_count": 3,
      "metadata": {
        "id": "tGoWkNt9PJvo"
      },
      "outputs": [],
      "source": [
        "# Diseño del algoritmo\n",
        "# //\n",
        "class Nodo:\n",
        "    def __init__(self, valor):\n",
        "        self.valor = valor  # Almacena el valor del nodo\n",
        "        self.next = None    # Puntero al siguiente nodo en la lista\n",
        "\n",
        "class LSL:\n",
        "    def __init__(self):\n",
        "        self.head = None  # Inicializa la cabeza de la lista como vacía\n",
        "\n",
        "    def insertar(self, valor):\n",
        "        nuevo_nodo = Nodo(valor)  # Crea un nuevo nodo con el valor dado\n",
        "        if self.head is None:     # Si la lista está vacía\n",
        "            self.head = nuevo_nodo  # El nuevo nodo se convierte en la cabeza de la lista\n",
        "        else:\n",
        "            nodo_actual = self.head\n",
        "            while nodo_actual.next is not None:  # Itera hasta encontrar el último nodo\n",
        "                nodo_actual = nodo_actual.next\n",
        "            nodo_actual.next = nuevo_nodo  # Añade el nuevo nodo al final de la lista\n",
        "\n",
        "    def concatenar(self, otra_lista):\n",
        "        if self.head is None:  # Si la lista actual está vacía\n",
        "            return otra_lista.head  # Retorna la cabeza de la otra lista\n",
        "        if otra_lista.head is None:  # Si la otra lista está vacía\n",
        "            return self.head  # Retorna la cabeza de la lista actual\n",
        "\n",
        "        nodo_actual = self.head\n",
        "        while nodo_actual.next is not None:  # Itera hasta encontrar el último nodo de la lista actual\n",
        "            nodo_actual = nodo_actual.next\n",
        "        nodo_actual.next = otra_lista.head  # Conecta el último nodo de la lista actual al primer nodo de la otra lista\n",
        "        return self.head\n",
        "\n",
        "    def ordenar(self):\n",
        "        if self.head is None or self.head.next is None:  # Si la lista está vacía o tiene un solo nodo\n",
        "            return self.head  # No necesita ordenarse\n",
        "\n",
        "        sorted_list = None  # Inicializa la lista ordenada como vacía\n",
        "        nodo_actual = self.head\n",
        "        while nodo_actual is not None:  # Itera sobre cada nodo de la lista original\n",
        "            siguiente_nodo = nodo_actual.next  # Guarda la referencia al siguiente nodo\n",
        "\n",
        "            # Inserta el nodo actual en la posición correcta en la lista ordenada\n",
        "            if sorted_list is None or nodo_actual.valor <= sorted_list.valor:\n",
        "                nodo_actual.next = sorted_list\n",
        "                sorted_list = nodo_actual\n",
        "            else:\n",
        "                temp = sorted_list\n",
        "                while temp.next is not None and temp.next.valor < nodo_actual.valor:\n",
        "                    temp = temp.next\n",
        "                nodo_actual.next = temp.next\n",
        "                temp.next = nodo_actual\n",
        "\n",
        "            nodo_actual = siguiente_nodo  # Pasa al siguiente nodo\n",
        "\n",
        "        self.head = sorted_list  # Actualiza la cabeza de la lista con la lista ordenada\n",
        "\n",
        "    def Mostrar(self):\n",
        "        nodo_actual = self.head\n",
        "        while nodo_actual is not None:  # Itera a través de la lista\n",
        "            print(nodo_actual.valor, end=\" → \")  # Imprime el valor del nodo seguido de una flecha\n",
        "            nodo_actual = nodo_actual.next  # Pasa al siguiente nodo\n",
        "        print(\"NULL\")  # Indica el final de la lista\n",
        "# //"
      ]
    },
    {
      "cell_type": "markdown",
      "metadata": {
        "id": "HDda7ujcV9Go"
      },
      "source": [
        "**Explicación del algoritmo: **\n",
        "\n",
        "**Clase Nodo:**\n",
        "\n",
        "Cada nodo en la LSL tiene dos atributos:\n",
        "\n",
        "- valor: almacena el valor del nodo.\n",
        "- next: un puntero que apunta al siguiente nodo en la lista o a None si es el último nodo.\n",
        "\n",
        "**Clase LSL:**\n",
        "\n",
        "Esta clase administra una LSL, ofreciendo métodos para insertar valores, concatenar listas, ordenar la lista, e imprimir su contenido.\n",
        "\n",
        "- Método insertar:\n",
        "    + Inserta un nuevo nodo al final de la lista.\n",
        "    + Si la lista está vacía (la cabeza es None), el nuevo nodo se convierte en la cabeza de la lista.\n",
        "    + Si la lista ya tiene nodos, el algoritmo itera hasta el último nodo y enlaza el nuevo nodo a la lista.\n",
        "\n",
        "- Método concatenar:\n",
        "    + Concatena dos LSL.\n",
        "    + Si la lista actual está vacía, se devuelve la otra lista.\n",
        "    + Si la otra lista está vacía, se retorna la lista actual.\n",
        "    + De lo contrario, se itera hasta el último nodo de la primera lista y se enlaza al primer nodo de la segunda lista.\n",
        "\n",
        "- Método ordenar:\n",
        "    + Ordena la LSL utilizando una variante del algoritmo de insertion sort.\n",
        "    + Se crea una nueva lista ordenada.\n",
        "    + Se itera sobre los nodos de la lista original y se inserta cada nodo en su posición correcta dentro de la lista ordenada.\n",
        "    + El algoritmo compara el valor del nodo con los valores de la lista ordenada para encontrar su posición adecuada.\n",
        "\n",
        "- Método Mostrar:\n",
        "    + Imprime los valores de los nodos en la LSL en secuencia, terminando con un NULL para indicar el final de la lista.\n",
        "\n",
        "**Estrategia Utilizada para el Diseño:**\n",
        "\n",
        "- Se utilizan LSL para garantizar un manejo sencillo de los nodos, lo que facilita la inserción y concatenación sin necesidad de redimensionar estructuras, como ocurriría en una lista estática.\n",
        "\n",
        "- Se optó por un diseño modular, dividiendo las operaciones clave en métodos separados (insertar, concatenar, ordenar), lo que permite una fácil comprensión y reutilización del código.\n",
        "\n",
        "- Se realiza una concatenación eficiente al enlazar directamente el último nodo de la primera lista al primer nodo de la segunda lista, evitando la necesidad de crear una nueva lista y copiar elementos."
      ]
    },
    {
      "cell_type": "code",
      "execution_count": 11,
      "metadata": {
        "id": "YuDjh7wKWC7b"
      },
      "outputs": [
        {
          "name": "stdout",
          "output_type": "stream",
          "text": [
            "7 → 8 → 8 → 1 → NULL\n",
            "2 → 9 → 1 → 4 → NULL\n"
          ]
        }
      ],
      "source": [
        "# Prueba 1:\n",
        "# Lista_1 = 7 -> 8 -> 8 -> 1 -> NULL\n",
        "# Lista_2 = 2 -> 9 -> 1 -> 4 -> NULL\n",
        "\n",
        "Lista_1 = LSL()\n",
        "Lista_1.insertar(7)\n",
        "Lista_1.insertar(8)\n",
        "Lista_1.insertar(8)\n",
        "Lista_1.insertar(1)\n",
        "Lista_1.Mostrar()\n",
        "\n",
        "Lista_2 = LSL()\n",
        "Lista_2.insertar(2)\n",
        "Lista_2.insertar(9)\n",
        "Lista_2.insertar(1)\n",
        "Lista_2.insertar(4)\n",
        "Lista_2.Mostrar()\n",
        "\n",
        "# Colocar la función principal para solucionar y la respuesta generada"
      ]
    },
    {
      "cell_type": "code",
      "execution_count": 9,
      "metadata": {
        "id": "ZTW2iC2wXPcD"
      },
      "outputs": [
        {
          "name": "stdout",
          "output_type": "stream",
          "text": [
            "10 → 9 → 8 → 7 → NULL\n",
            "6 → 5 → 4 → 3 → 2 → 1 → NULL\n"
          ]
        }
      ],
      "source": [
        "# Prueba 2:\n",
        "# Lista_1 = 10 -> 9 -> 8 -> 7 -> NULL\n",
        "# Lista_2 = 6 -> 5 -> 4 -> 3 -> 2 -> 1 -> NULL\n",
        "\n",
        "Lista_1 = LSL()\n",
        "Lista_1.insertar(10)\n",
        "Lista_1.insertar(9)\n",
        "Lista_1.insertar(8)\n",
        "Lista_1.insertar(7)\n",
        "Lista_1.Mostrar()\n",
        "\n",
        "Lista_2 = LSL()\n",
        "Lista_2.insertar(6)\n",
        "Lista_2.insertar(5)\n",
        "Lista_2.insertar(4)\n",
        "Lista_2.insertar(3)\n",
        "Lista_2.insertar(2)\n",
        "Lista_2.insertar(1)\n",
        "Lista_2.Mostrar()\n",
        "\n",
        "# Colocar la función principal para solucionar y la respuesta generada"
      ]
    },
    {
      "cell_type": "code",
      "execution_count": 10,
      "metadata": {
        "id": "9Mljj8_-Xh6h"
      },
      "outputs": [
        {
          "name": "stdout",
          "output_type": "stream",
          "text": [
            "5 → 5 → 5 → 5 → NULL\n",
            "6 → 6 → 6 → NULL\n"
          ]
        }
      ],
      "source": [
        "# Prueba 3:\n",
        "# Lista_1 = 5 -> 5 -> 5 -> 5 -> NULL\n",
        "# Lista_2 = 6 -> 6 -> 6 -> NULL\n",
        "\n",
        "Lista_1 = LSL()\n",
        "Lista_1.insertar(5)\n",
        "Lista_1.insertar(5)\n",
        "Lista_1.insertar(5)\n",
        "Lista_1.insertar(5)\n",
        "Lista_1.Mostrar()\n",
        "\n",
        "Lista_2 = LSL()\n",
        "Lista_2.insertar(6)\n",
        "Lista_2.insertar(6)\n",
        "Lista_2.insertar(6)\n",
        "Lista_2.Mostrar()\n",
        "\n",
        "# Colocar la función principal para solucionar y la respuesta generada"
      ]
    },
    {
      "cell_type": "markdown",
      "metadata": {
        "id": "rfiJnY6HXxi_"
      },
      "source": [
        "### Ejercicio 2: Ordenamiento de una LDL"
      ]
    },
    {
      "cell_type": "markdown",
      "metadata": {
        "id": "ON4_llaTYXRi"
      },
      "source": [
        "**Descripción** Considere una LDL donde el usuario ingresa un conjunto de nodos cualquesquiera, es decir, nodos con valores positivos o negativos. Se desea diseñar un algoritmo que permita ordenar los nodos en cualquier forma, ascendente o descendente, tal que el resultado muestre los nodos ordenados y sin nodos repetitivos.\n",
        "\n",
        "**Idea:** Dado una LDL, $Lista = 8 <--> 1 <--> 1 <--> 1 <--> 9 <--> 4 <--> NULL$, el algoritmo debe retonar la siguiente LDL: $Lista = 1 <--> 4 <--> 8 <--> 9 <--> NULL$ o la otra opción, $Lista = 9 <--> 8 <--> 4 <--> 1 <--> NULL$"
      ]
    },
    {
      "cell_type": "code",
      "execution_count": 14,
      "metadata": {
        "id": "HEkxyjRffeqR"
      },
      "outputs": [],
      "source": [
        "# Diseño del algoritmo\n",
        "# //\n",
        "class Nodo:\n",
        "    def __init__(self, valor):\n",
        "        self.valor = valor  # Almacena el valor del nodo\n",
        "        self.next = None    # Puntero al siguiente nodo en la lista\n",
        "        self.prev = None    # Puntero al nodo anterior en la lista\n",
        "\n",
        "class LDL:\n",
        "    def __init__(self):\n",
        "        self.head = None  # Inicializa la cabeza de la lista como vacía\n",
        "\n",
        "    def insertar(self, valor):\n",
        "        nuevo_nodo = Nodo(valor)  # Crea un nuevo nodo con el valor dado\n",
        "        if self.head is None:     # Si la lista está vacía\n",
        "            self.head = nuevo_nodo  # El nuevo nodo se convierte en la cabeza de la lista\n",
        "        else:\n",
        "            nodo_actual = self.head\n",
        "            while nodo_actual.next is not None:  # Itera hasta encontrar el último nodo\n",
        "                nodo_actual = nodo_actual.next\n",
        "            nodo_actual.next = nuevo_nodo  # Añade el nuevo nodo al final de la lista\n",
        "            nuevo_nodo.prev = nodo_actual  # Enlaza el nuevo nodo con el nodo anterior\n",
        "\n",
        "    def ordenar(self, ascendente=True):\n",
        "        if self.head is None or self.head.next is None:  # Si la lista está vacía o tiene un solo nodo\n",
        "            return\n",
        "\n",
        "        # Eliminar nodos duplicados\n",
        "        self.eliminar_duplicados()\n",
        "\n",
        "        # Ordenar la lista utilizando una variante de insertion sort\n",
        "        nodo_actual = self.head\n",
        "        while nodo_actual is not None:\n",
        "            siguiente_nodo = nodo_actual.next\n",
        "            while nodo_actual.prev is not None and (\n",
        "                (ascendente and nodo_actual.valor < nodo_actual.prev.valor) or\n",
        "                (not ascendente and nodo_actual.valor > nodo_actual.prev.valor)\n",
        "            ):\n",
        "                # Intercambia nodos\n",
        "                anterior = nodo_actual.prev\n",
        "                siguiente = nodo_actual.next\n",
        "                nodo_actual.prev = anterior.prev\n",
        "                nodo_actual.next = anterior\n",
        "                anterior.prev = nodo_actual\n",
        "                anterior.next = siguiente\n",
        "                if siguiente is not None:\n",
        "                    siguiente.prev = anterior\n",
        "                if nodo_actual.prev is not None:\n",
        "                    nodo_actual.prev.next = nodo_actual\n",
        "                else:\n",
        "                    self.head = nodo_actual\n",
        "            nodo_actual = siguiente_nodo\n",
        "\n",
        "    def eliminar_duplicados(self):\n",
        "        if self.head is None:\n",
        "            return\n",
        "\n",
        "        valores_vistos = set()\n",
        "        nodo_actual = self.head\n",
        "        while nodo_actual is not None:\n",
        "            if nodo_actual.valor in valores_vistos:\n",
        "                anterior = nodo_actual.prev\n",
        "                siguiente = nodo_actual.next\n",
        "                if anterior is not None:\n",
        "                    anterior.next = siguiente\n",
        "                if siguiente is not None:\n",
        "                    siguiente.prev = anterior\n",
        "                if nodo_actual == self.head:\n",
        "                    self.head = siguiente\n",
        "            else:\n",
        "                valores_vistos.add(nodo_actual.valor)\n",
        "            nodo_actual = nodo_actual.next\n",
        "\n",
        "    def Mostrar(self):\n",
        "        nodo_actual = self.head\n",
        "        while nodo_actual is not None:\n",
        "            print(nodo_actual.valor, end=\" <--> \" if nodo_actual.next is not None else \" <--> NULL\\n\")\n",
        "            nodo_actual = nodo_actual.next\n",
        "# //"
      ]
    },
    {
      "cell_type": "markdown",
      "metadata": {
        "id": "Gt-cSBnRfhe4"
      },
      "source": [
        "**Explicación del algoritmo: **\n",
        "\n",
        "**Clase Nodo:**\n",
        "\n",
        "Cada nodo en la LDL tiene tres atributos:\n",
        "\n",
        "- valor: almacena el valor del nodo.\n",
        "- next: un puntero que apunta al siguiente nodo en la lista.\n",
        "- prev: un puntero que apunta al nodo anterior en la lista.\n",
        "\n",
        "**Clase LDL:**\n",
        "\n",
        "Esta clase administra una LDL, ofreciendo métodos para insertar valores, eliminar duplicados, ordenar la lista en orden ascendente o descendente, y mostrar su contenido.\n",
        "\n",
        "- Método insertar:\n",
        "    + Inserta un nuevo nodo al final de la lista.\n",
        "    + Si la lista está vacía, el nuevo nodo se convierte en la cabeza de la lista.\n",
        "    + Si la lista ya tiene nodos, el algoritmo itera hasta el último nodo y enlaza el nuevo nodo al final, ajustando tanto el puntero next como prev.\n",
        "\n",
        "- Método eliminar_duplicados:\n",
        "    + Itera a través de la lista y elimina cualquier nodo con un valor que ya ha sido visto anteriormente, asegurando que la lista resultante no tenga nodos repetidos.\n",
        "\n",
        "- Método ordenar:\n",
        "    + Ordena la lista en orden ascendente o descendente utilizando un algoritmo de inserción.\n",
        "    + Durante la ordenación, el algoritmo intercambia los nodos en lugar de simplemente cambiar los valores.\n",
        "    + El parámetro ascendente determina si la lista se ordena en orden ascendente (True) o descendente (False).\n",
        "\n",
        "- Método Mostrar:\n",
        "    + Imprime los valores de los nodos en la lista enlazada en secuencia, indicando el final de la lista con NULL.\n",
        "\n",
        "**Estrategia Utilizada para el Diseño:**\n",
        "\n",
        "- Antes de ordenar la lista, se eliminan los nodos duplicados para asegurar que la lista resultante no contenga valores repetidos.\n",
        "\n",
        "- Se utiliza un algoritmo de ordenación por inserción adaptado para listas doblemente enlazadas, permitiendo un intercambio directo de nodos. Este enfoque es adecuado debido a la facilidad con la que se pueden ajustar los punteros prev y next en una LDL.\n",
        "\n",
        "- El algoritmo permite ordenar la lista en cualquier orden (ascendente o descendente) según la preferencia del usuario, lo que añade versatilidad a la implementación.\n",
        "\n",
        "- Las operaciones de inserción, eliminación de duplicados, ordenación y visualización están separadas en métodos específicos, lo que facilita la comprensión, mantenimiento y reutilización del código."
      ]
    },
    {
      "cell_type": "code",
      "execution_count": 15,
      "metadata": {
        "id": "1s-zazYZfp2t"
      },
      "outputs": [
        {
          "name": "stdout",
          "output_type": "stream",
          "text": [
            "10 <--> 8 <--> 8 <--> 8 <--> 9 <--> NULL\n"
          ]
        }
      ],
      "source": [
        "# Prueba 1:\n",
        "# Lista = 10 <-> 8 <-> 8 <-> 8 <-> 9 <-> NULL\n",
        "\n",
        "Lista = LDL()\n",
        "Lista.insertar(10)\n",
        "Lista.insertar(8)\n",
        "Lista.insertar(8)\n",
        "Lista.insertar(8)\n",
        "Lista.insertar(9)\n",
        "Lista.Mostrar()\n",
        "\n",
        "# Colocar la función principal para solucionar y la respuesta generada"
      ]
    },
    {
      "cell_type": "code",
      "execution_count": 16,
      "metadata": {
        "id": "UoDZFsXhgEKK"
      },
      "outputs": [
        {
          "name": "stdout",
          "output_type": "stream",
          "text": [
            "1 <--> 1 <--> 1 <--> 1 <--> 1 <--> NULL\n"
          ]
        }
      ],
      "source": [
        "# Prueba 2:\n",
        "# Lista = 1 <-> 1 <-> 1 <-> 1 <-> 1 <-> NULL\n",
        "\n",
        "Lista = LDL()\n",
        "Lista.insertar(1)\n",
        "Lista.insertar(1)\n",
        "Lista.insertar(1)\n",
        "Lista.insertar(1)\n",
        "Lista.insertar(1)\n",
        "Lista.Mostrar()\n",
        "\n",
        "# Colocar la función principal para solucionar y la respuesta generada"
      ]
    },
    {
      "cell_type": "code",
      "execution_count": 17,
      "metadata": {
        "id": "HhvEBYLJgMT5"
      },
      "outputs": [
        {
          "name": "stdout",
          "output_type": "stream",
          "text": [
            "8 <--> 7 <--> 6 <--> -4 <--> -4 <--> -3 <--> -2 <--> -1 <--> NULL\n"
          ]
        }
      ],
      "source": [
        "# Prueba 3:\n",
        "# Lista = 8 <-> 7 <-> 6 <-> -4 <-> -4 <-> -3 <-> -2 <-> -1 <-> NULL\n",
        "\n",
        "Lista = LDL()\n",
        "Lista.insertar(8)\n",
        "Lista.insertar(7)\n",
        "Lista.insertar(6)\n",
        "Lista.insertar(-4)\n",
        "Lista.insertar(-4)\n",
        "Lista.insertar(-3)\n",
        "Lista.insertar(-2)\n",
        "Lista.insertar(-1)\n",
        "Lista.Mostrar()\n",
        "\n",
        "# Colocar la función principal para solucionar y la respuesta generada"
      ]
    },
    {
      "cell_type": "markdown",
      "metadata": {
        "id": "gZ06ZR20gme5"
      },
      "source": [
        "### Ejercicio 3: Operación de Encolamiento en una LDL"
      ]
    },
    {
      "cell_type": "markdown",
      "metadata": {
        "id": "0aMhTjsUhNg5"
      },
      "source": [
        "**Descripción:** Diseñar un algoritmo que permita encolar nodos en una LDL, considerando el método de cola no circular (CNC).\n",
        "\n",
        "**Idea:** Dado una LDL vacía, $Lista = NULL$, se desea encolar el nodo $3$, tal que la LDL se actualiza como $Lista = 3 <--> NULL$. Al encolar el nodo $4$, la LDL se actualiza de nuevo como $Lista = 3 <--> 4 <--> NULL$"
      ]
    },
    {
      "cell_type": "code",
      "execution_count": 18,
      "metadata": {
        "id": "9_Ao4LtyiNGh"
      },
      "outputs": [],
      "source": [
        "# Diseño del algoritmo\n",
        "# //\n",
        "class Nodo:\n",
        "    def __init__(self, valor):\n",
        "        self.valor = valor  # Almacena el valor del nodo\n",
        "        self.next = None    # Puntero al siguiente nodo en la lista\n",
        "        self.prev = None    # Puntero al nodo anterior en la lista\n",
        "\n",
        "class LDL:\n",
        "    def __init__(self):\n",
        "        self.head = None  # Inicializa la cabeza de la lista como vacía\n",
        "        self.tail = None  # Inicializa la cola de la lista como vacía\n",
        "\n",
        "    def insertar(self, valor):\n",
        "        nuevo_nodo = Nodo(valor)  # Crea un nuevo nodo con el valor dado\n",
        "        if self.head is None:     # Si la lista está vacía\n",
        "            self.head = nuevo_nodo  # El nuevo nodo se convierte en la cabeza de la lista\n",
        "            self.tail = nuevo_nodo  # También se convierte en la cola de la lista\n",
        "        else:\n",
        "            self.tail.next = nuevo_nodo  # El nodo actual en la cola apunta al nuevo nodo\n",
        "            nuevo_nodo.prev = self.tail  # El nuevo nodo apunta al nodo anterior\n",
        "            self.tail = nuevo_nodo  # El nuevo nodo se convierte en la cola de la lista\n",
        "\n",
        "    def mostrar(self):\n",
        "        nodo_actual = self.head\n",
        "        while nodo_actual is not None:\n",
        "            print(nodo_actual.valor, end=\" <--> \" if nodo_actual.next is not None else \" <--> NULL\\n\")\n",
        "            nodo_actual = nodo_actual.next\n",
        "# //"
      ]
    },
    {
      "cell_type": "markdown",
      "metadata": {
        "id": "LOoO5qcRiPwa"
      },
      "source": [
        "**Explicación del algoritmo: **\n",
        "\n",
        "**Clase Nodo:**\n",
        "\n",
        "Cada nodo en la LDL tiene tres atributos:\n",
        "\n",
        "- valor: almacena el valor del nodo.\n",
        "- next: un puntero que apunta al siguiente nodo en la lista.\n",
        "- prev: un puntero que apunta al nodo anterior en la lista.\n",
        "\n",
        "**Clase LDL:**\n",
        "\n",
        "Esta clase maneja una LDL con dos punteros importantes: head (la cabeza de la lista) y tail (la cola de la lista).\n",
        "\n",
        "- Método insertar:\n",
        "    + Inserta un nuevo nodo al final de la lista, siguiendo el comportamiento de una cola.\n",
        "    + Si la lista está vacía (es decir, la cabeza es None), el nuevo nodo se convierte en la cabeza y la cola de la lista.\n",
        "    + Si la lista ya tiene nodos, el nuevo nodo se añade al final de la lista, y se actualizan los punteros next del nodo actual en la cola y prev del nuevo nodo.\n",
        "    + Finalmente, el nuevo nodo se convierte en la cola de la lista.\n",
        "\n",
        "- Método Mostrar:\n",
        "    + Recorre la lista desde la cabeza hasta la cola, imprimiendo los valores de los nodos en secuencia, terminando con NULL para indicar el final de la lista.\n",
        "\n",
        "**Estrategia Utilizada para el Diseño:**\n",
        "\n",
        "- Se utiliza una LDL para facilitar la inserción eficiente de nodos en cualquier posición, aunque en este caso nos enfocamos en la inserción en la cola.\n",
        "\n",
        "- La lista no es circular, es decir, el último nodo apunta a NULL y no vuelve a conectar con la cabeza de la lista. Esto es apropiado para representar una estructura de cola simple.\n",
        "\n",
        "- La clase y los métodos están diseñados de forma modular para que cada operación (inserción y visualización) se gestione de manera independiente, lo que facilita la comprensión y el mantenimiento del código."
      ]
    },
    {
      "cell_type": "code",
      "execution_count": 19,
      "metadata": {
        "id": "vSAY2P-eiSJb"
      },
      "outputs": [
        {
          "name": "stdout",
          "output_type": "stream",
          "text": [
            "1 <--> 5 <--> 6 <--> 9 <--> 10 <--> NULL\n"
          ]
        }
      ],
      "source": [
        "# Prueba 1:\n",
        "# Generar una LDL = 1 <-> 5 <-> 6 <-> 9 <-> 10 <-> NULL\n",
        "Lista = LDL()\n",
        "Lista.insertar(1)\n",
        "Lista.insertar(5)\n",
        "Lista.insertar(6)\n",
        "Lista.insertar(9)\n",
        "Lista.insertar(10)\n",
        "Lista.mostrar()\n",
        "\n",
        "# Colocar la función principal para solucionar y la respuesta generada"
      ]
    },
    {
      "cell_type": "code",
      "execution_count": 20,
      "metadata": {
        "id": "FdbVfU7yid0a"
      },
      "outputs": [
        {
          "name": "stdout",
          "output_type": "stream",
          "text": [
            "8 <--> 8 <--> 10 <--> 10 <--> 20 <--> NULL\n"
          ]
        }
      ],
      "source": [
        "# Prueba 2:\n",
        "# Generar una LDL = 8 <-> 8 <-> 10 <-> 10 <-> 20 <-> NULL\n",
        "Lista = LDL()\n",
        "Lista.insertar(8)\n",
        "Lista.insertar(8)\n",
        "Lista.insertar(10)\n",
        "Lista.insertar(10)\n",
        "Lista.insertar(20)\n",
        "Lista.mostrar()\n",
        "# Colocar la función principal para solucionar y la respuesta generada"
      ]
    },
    {
      "cell_type": "markdown",
      "metadata": {
        "id": "xZfGpiaNikxA"
      },
      "source": [
        "### Ejercicio 4: Recuperación de valores desapilados desde una nueva lista\n",
        "\n"
      ]
    },
    {
      "cell_type": "markdown",
      "metadata": {
        "id": "Lv4c_tCUi_CJ"
      },
      "source": [
        "**Descripción:** Considere una lista de valores con un tamaño $n$ definido por el usuario. A partir de lo anterior, diseñar un algoritmo que permita desapilar los valores de la lista y recuperar sus valores a través de una nueva variable.\n",
        "\n",
        "**Idea:** Dado una lista, $Lista = [8, 7 , 1, 3, 9]$, se realiza una operación de desapilar tal que en una nueva variable, $ListaNueva$, se muestre los valores removidos previamente, $ListaNueva = [9, 3, 1, 7, 8]$"
      ]
    },
    {
      "cell_type": "code",
      "execution_count": 13,
      "metadata": {
        "id": "eWluLxMDi1kK"
      },
      "outputs": [],
      "source": [
        "# Diseño del algoritmo\n",
        "# //\n",
        "class Pila:\n",
        "    def __init__(self, n):\n",
        "        self.V = [None] * n  # Inicializa la pila con un tamaño fijo\n",
        "        self.cima = -1  # Inicializa la cima de la pila en -1\n",
        "\n",
        "    def PilaVacia(self):\n",
        "        # Verifica si la pila está vacía\n",
        "        return self.cima == -1\n",
        "\n",
        "    def PilaLlena(self):\n",
        "        # Verifica si la pila está llena\n",
        "        return self.cima == len(self.V) - 1\n",
        "\n",
        "    def Apilar(self, valor):\n",
        "        # Apila un valor si la pila no está llena\n",
        "        if self.PilaLlena():\n",
        "            print(\"La pila está llena\")\n",
        "            return\n",
        "        self.cima += 1\n",
        "        self.V[self.cima] = valor\n",
        "\n",
        "    def Desapilar(self):\n",
        "        # Desapila un valor si la pila no está vacía\n",
        "        if self.PilaVacia():\n",
        "            print(\"La pila está vacía\")\n",
        "            return None\n",
        "        valor_eliminar = self.V[self.cima]\n",
        "        self.V[self.cima] = None  # Limpia el valor desapilado\n",
        "        self.cima -= 1\n",
        "        return valor_eliminar\n",
        "\n",
        "    def Mostrar(self):\n",
        "        # Muestra el contenido actual de la pila\n",
        "        print(self.V[:self.cima + 1])\n",
        "\n",
        "def desapilar_valores(lista):\n",
        "    \n",
        "    pila = Pila(len(lista))  # Crear una pila con el tamaño de la lista original\n",
        "    \n",
        "    # Apilar los valores en la pila\n",
        "    for valor in lista:\n",
        "        pila.Apilar(valor)\n",
        "    \n",
        "    lista_nueva = []  # Lista para almacenar los valores desapilados\n",
        "\n",
        "    # Desapilar los valores y almacenarlos en la nueva lista\n",
        "    while not pila.PilaVacia():\n",
        "        valor = pila.Desapilar()\n",
        "        if valor is not None:\n",
        "            lista_nueva.append(valor)\n",
        "    \n",
        "    return lista_nueva\n",
        "\n",
        "# //"
      ]
    },
    {
      "cell_type": "markdown",
      "metadata": {
        "id": "mtmf9P5QkFIM"
      },
      "source": [
        "**Explicación del algoritmo: **\n",
        "\n",
        "Este algoritmo implementa una estructura de datos tipo pila, que sigue el principio LIFO (Last In, First Out). La pila es utilizada para almacenar temporalmente los elementos de una lista proporcionada por el usuario. Luego, los elementos se desapilan y se almacenan en una nueva lista, invirtiendo su orden original.\n",
        "\n",
        "- Inicialización de la Pila:\n",
        "   - La clase `Pila` es inicializada con un tamaño fijo `n`, que corresponde al tamaño de la lista original.\n",
        "   - La pila es representada por una lista de Python `self.V`, donde `None` indica posiciones vacías.\n",
        "   - El atributo `cima` es un puntero que indica la posición del último elemento apilado.\n",
        "\n",
        "- Verificación de Estado de la Pila:\n",
        "   - El método `PilaVacia()` verifica si la pila está vacía comprobando si `cima` es igual a `-1`.\n",
        "   - El método `PilaLlena()` verifica si la pila está llena comparando `cima` con el tamaño de la lista menos uno.\n",
        "\n",
        "- Operaciones de Apilado y Desapilado:\n",
        "   - **Apilar (`Apilar(valor)`):** Inserta un valor en la cima de la pila si esta no está llena. Si está llena, se imprime un mensaje de advertencia.\n",
        "   - **Desapilar (`Desapilar()`):** Remueve y retorna el valor en la cima de la pila si no está vacía. Si está vacía, se imprime un mensaje y retorna `None`.\n",
        "\n",
        "- Mostrar la Pila (`Mostrar()`):\n",
        "   - Muestra los elementos actuales de la pila desde la base hasta la cima.\n",
        "\n",
        "- Desapilar y Recuperar Valores:\n",
        "   - La función `desapilar_valores(lista)` toma una lista de entrada y crea una pila del mismo tamaño.\n",
        "   - Se apilan todos los elementos de la lista.\n",
        "   - Luego, se desapilan los elementos, almacenándolos en una nueva lista `lista_nueva`, que contiene los valores en orden inverso al original.\n",
        "\n",
        "**Estrategia Utilizada para el Diseño:**\n",
        "\n",
        "- Se eligió una pila porque esta estructura de datos es ideal para invertir el orden de los elementos, ya que el último elemento en ser apilado es el primero en ser desapilado (LIFO).\n",
        "  \n",
        "- Se incluyeron métodos para verificar si la pila está vacía o llena, evitando errores de ejecución al intentar apilar en una pila llena o desapilar de una pila vacía.\n",
        "\n",
        "- La función `desapilar_valores()` es generalizable y puede manejar cualquier lista de entrada de tamaño fijo, asegurando que los valores se procesen correctamente y se devuelvan en el orden inverso deseado."
      ]
    },
    {
      "cell_type": "code",
      "execution_count": 14,
      "metadata": {
        "id": "CZje5sqtkK5f"
      },
      "outputs": [
        {
          "name": "stdout",
          "output_type": "stream",
          "text": [
            "Prueba 1 - Lista Nueva = [5, 7, 5, 9, 7, 2]\n"
          ]
        }
      ],
      "source": [
        "# Prueba 1:\n",
        "# Lista = [2, 7, 9, 5, 7, 5]\n",
        "lista1 = [2, 7, 9, 5, 7, 5]\n",
        "lista_nueva1 = desapilar_valores(lista1)\n",
        "print(\"Prueba 1 - Lista Nueva =\", lista_nueva1)\n",
        "# Colocar la función principal para solucionar y la respuesta generada"
      ]
    },
    {
      "cell_type": "code",
      "execution_count": 15,
      "metadata": {
        "id": "yOr6GjnckhV1"
      },
      "outputs": [
        {
          "name": "stdout",
          "output_type": "stream",
          "text": [
            "Prueba 2 - Lista Nueva = [1, 1, 1, 1, 1, 1]\n"
          ]
        }
      ],
      "source": [
        "# Prueba 2:\n",
        "# Lista = [1, 1, 1, 1, 1, 1]\n",
        "lista2 = [1, 1, 1, 1, 1, 1]\n",
        "lista_nueva2 = desapilar_valores(lista2)\n",
        "print(\"Prueba 2 - Lista Nueva =\", lista_nueva2) \n",
        "# Colocar la función principal para solucionar y la respuesta generada"
      ]
    },
    {
      "cell_type": "code",
      "execution_count": 16,
      "metadata": {
        "id": "aaPIa-SYklx_"
      },
      "outputs": [
        {
          "name": "stdout",
          "output_type": "stream",
          "text": [
            "Prueba 3 - Lista Nueva = [1, 1, 7, 7, 5, 5]\n"
          ]
        }
      ],
      "source": [
        "# Prueba 3:\n",
        "# Lista = [5, 5, 7, 7, 1, 1]\n",
        "lista3 = [5, 5, 7, 7, 1, 1]\n",
        "lista_nueva3 = desapilar_valores(lista3)\n",
        "print(\"Prueba 3 - Lista Nueva =\", lista_nueva3)\n",
        "# Colocar la función principal para solucionar y la respuesta generada"
      ]
    },
    {
      "cell_type": "markdown",
      "metadata": {
        "id": "BMOq4eW5ktxU"
      },
      "source": [
        "### Ejercicio 5: Implementación de una pila usando una estructura de datos generado por colas"
      ]
    },
    {
      "cell_type": "markdown",
      "metadata": {
        "id": "d74gtucMc34g"
      },
      "source": [
        "**Descripción:** Diseñar una pila tal que soporte las operaciones de apilar y desapilar usando operaciones de encolar y desencolar de una cola.\n",
        "\n",
        "**Idea:** La estrategía es implementar la operación de desencolar de forma que el último elemento añadido siempre acabe en la parte inicial de la cola. Se sugiere para este paso, una contenedor cola adicional. Por otra parte, para introducir un elemento en la pila, primero hay que mover todos los elementos de la primera cola a la segunda cola, luego poner en cola el nuevo elemento en la primera cola y, por último, volcer a mover todos los elementos a la primera cola. Lo anterior asegura que el nuevo elemento se encuentre delante de la cola y por consiguiente, sería el primero en ser removido. Para sacar un elemento de la pila, es necesario devolver el elemento ubicado delante de la primera cola.\n",
        "\n",
        "\n",
        "\n",
        "\n",
        "\n"
      ]
    },
    {
      "cell_type": "code",
      "execution_count": 6,
      "metadata": {
        "id": "etsJ0yslc3Dj"
      },
      "outputs": [],
      "source": [
        "# Diseño del algoritmo\n",
        "# //\n",
        "class Cola:\n",
        "    def __init__(self):\n",
        "        self.items = []\n",
        "\n",
        "    def encolar(self, valor):\n",
        "        # Añadir un elemento al final de la cola.\n",
        "        self.items.append(valor)\n",
        "\n",
        "    def desencolar(self):\n",
        "        # Remover el primer elemento de la cola.\n",
        "        if not self.cola_vacia():\n",
        "            return self.items.pop(0)\n",
        "        else:\n",
        "            return None\n",
        "\n",
        "    def cola_vacia(self):\n",
        "        # Verificar si la cola está vacía.\n",
        "        return len(self.items) == 0\n",
        "\n",
        "    def frente(self):\n",
        "        # Obtener el primer elemento de la cola sin removerlo.\n",
        "        if not self.cola_vacia():\n",
        "            return self.items[0]\n",
        "        else:\n",
        "            return None\n",
        "\n",
        "class PilaConColas:\n",
        "    def __init__(self):\n",
        "        self.cola1 = Cola()  # Cola principal donde se almacenan los elementos\n",
        "        self.cola2 = Cola()  # Cola auxiliar usada para reordenar los elementos\n",
        "\n",
        "    def Apilar(self, valor):\n",
        "        \"\"\"\n",
        "        Apila un valor en la pila utilizando operaciones de encolar y desencolar.\n",
        "        \"\"\"\n",
        "        # Mover todos los elementos de cola1 a cola2\n",
        "        while not self.cola1.cola_vacia():\n",
        "            self.cola2.encolar(self.cola1.desencolar())\n",
        "\n",
        "        # Encolar el nuevo valor en cola1\n",
        "        self.cola1.encolar(valor)\n",
        "\n",
        "        # Mover todos los elementos de cola2 de vuelta a cola1\n",
        "        while not self.cola2.cola_vacia():\n",
        "            self.cola1.encolar(self.cola2.desencolar())\n",
        "\n",
        "    def Desapilar(self):\n",
        "        # Desapila el valor superior de la pila.\n",
        "        if not self.cola1.cola_vacia():\n",
        "            return self.cola1.desencolar()  # Desencolar el primer elemento de cola1\n",
        "        else:\n",
        "            print(\"La pila está vacía\")\n",
        "            return None\n",
        "\n",
        "    def Mostrar(self):\n",
        "        # Muestra el contenido actual de la pila.\n",
        "        print(\"Pila =\", self.cola1.items)\n",
        "# //"
      ]
    },
    {
      "cell_type": "markdown",
      "metadata": {
        "id": "noYTg8zJmhTo"
      },
      "source": [
        "**Explicación del algoritmo: **\n",
        "\n",
        " **Cola Personalizada (`Cola`):**\n",
        "   - Se crea una clase `Cola` con métodos para encolar, desencolar, verificar si está vacía, y obtener el frente de la cola.\n",
        "\n",
        " **Pila Usando Colas (`PilaConColas`):**\n",
        "   - Se inicializan dos instancias de la clase `Cola`: `cola1` y `cola2`.\n",
        "   - Apilar (`Apilar`):\n",
        "     - Para apilar un valor, se mueven todos los elementos de `cola1` a `cola2`.\n",
        "     - El nuevo valor se encola en `cola1`, asegurando que esté al frente.\n",
        "     - Luego, los elementos de `cola2` se mueven de vuelta a `cola1`.\n",
        "   - Desapilar (`Desapilar`):\n",
        "     - El valor es removido del frente de `cola1`, simulando la operación de desapilar de una pila.\n",
        "   - Mostrar (`Mostrar`):\n",
        "     - Este método muestra el contenido actual de `cola1`, que representa los elementos en la pila.\n",
        "\n",
        "**Estrategia Utilizada:**\n",
        "\n",
        "- Se utiliza una estrategia de doble cola para mantener el último elemento añadido siempre al frente de la primera cola (`cola1`). Esto permite que la estructura se comporte como una pila (LIFO) aunque esté implementada usando colas (FIFO). \n",
        "\n",
        "Este enfoque ilustra cómo es posible simular una estructura de datos (pila) utilizando otra (cola) a través de una estrategia de doble cola y reordenamiento dinámico."
      ]
    },
    {
      "cell_type": "code",
      "execution_count": 10,
      "metadata": {
        "id": "LrJNRo5Pm7Hp"
      },
      "outputs": [
        {
          "name": "stdout",
          "output_type": "stream",
          "text": [
            "Pila = [15, 14, 13, 12, 11, 10]\n"
          ]
        }
      ],
      "source": [
        "# Prueba 1:\n",
        "# Lista = [10, 11, 12, 13, 14, 15],\n",
        "pila1 = PilaConColas()\n",
        "lista1 = [10, 11, 12, 13, 14, 15]\n",
        "for valor in lista1:\n",
        "    pila1.Apilar(valor)\n",
        "pila1.Mostrar()\n",
        "# Colocar la función principal para solucionar y la respuesta generada"
      ]
    },
    {
      "cell_type": "code",
      "execution_count": 11,
      "metadata": {
        "id": "h26RZ7yYnMx-"
      },
      "outputs": [
        {
          "name": "stdout",
          "output_type": "stream",
          "text": [
            "Pila = [6, 5, 4, 3, 2, 1]\n"
          ]
        }
      ],
      "source": [
        "# Prueba 2:\n",
        "# Lista = [1, 2, 3, 4, 5, 6],\n",
        "pila2 = PilaConColas()\n",
        "lista2 = [1, 2, 3, 4, 5, 6]\n",
        "for valor in lista2:\n",
        "    pila2.Apilar(valor)\n",
        "pila2.Mostrar()\n",
        "# Colocar la función principal para solucionar y la respuesta generada"
      ]
    },
    {
      "cell_type": "code",
      "execution_count": 12,
      "metadata": {
        "id": "hEGhMsNLnNZN"
      },
      "outputs": [
        {
          "name": "stdout",
          "output_type": "stream",
          "text": [
            "Pila = [0, 10, 20, 30, 40, 50]\n"
          ]
        }
      ],
      "source": [
        "# Prueba 3:\n",
        "# Lista = [50, 40, 30, 20, 10, 0],\n",
        "pila3 = PilaConColas()\n",
        "lista3 = [50, 40, 30, 20, 10, 0]\n",
        "for valor in lista3:\n",
        "    pila3.Apilar(valor)\n",
        "pila3.Mostrar()\n",
        "# Colocar la función principal para solucionar y la respuesta generada"
      ]
    }
  ],
  "metadata": {
    "colab": {
      "private_outputs": true,
      "provenance": [],
      "toc_visible": true
    },
    "kernelspec": {
      "display_name": "Python 3",
      "name": "python3"
    },
    "language_info": {
      "codemirror_mode": {
        "name": "ipython",
        "version": 3
      },
      "file_extension": ".py",
      "mimetype": "text/x-python",
      "name": "python",
      "nbconvert_exporter": "python",
      "pygments_lexer": "ipython3",
      "version": "3.12.4"
    }
  },
  "nbformat": 4,
  "nbformat_minor": 0
}
