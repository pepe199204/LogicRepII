{
 "cells": [
  {
   "cell_type": "markdown",
   "metadata": {},
   "source": [
    "# Proceso de 2 Colas"
   ]
  },
  {
   "cell_type": "code",
   "execution_count": 15,
   "metadata": {},
   "outputs": [],
   "source": [
    "class A2CC: # Cola Circular\n",
    "\n",
    "  def __init__(self, n):\n",
    "    m = n // 2\n",
    "    self.total = n\n",
    "    self.capacidad = m\n",
    "    self.V = [None]*self.total\n",
    "    self.P1 = -1\n",
    "    self.F1 = self.capacidad - 1\n",
    "    self.P2 = self.capacidad - 1\n",
    "    self.F2 = self.total - 1\n",
    "\n",
    "  def ColaLlena(self, puntero_inicial, puntero_final):\n",
    "    # puntero_inicial = puntero para encolar\n",
    "    # puntero_final = puntero para desencolar\n",
    "\n",
    "    # Primera Parte pos 0 hasta pos m - 1\n",
    "    if puntero_final == (self.capacidad - 1):\n",
    "      if puntero_inicial == puntero_final:\n",
    "        return True\n",
    "\n",
    "    # Segunda Parte pos m hasta pos n - 1\n",
    "    if puntero_final == (self.total - 1):\n",
    "      if puntero_inicial == puntero_final:\n",
    "        return True\n",
    "\n",
    "  def ColaVacia(self, puntero_inicial, puntero_final):\n",
    "    # Primera Parte pos 0 hasta pos m - 1\n",
    "    if puntero_inicial == -1 and puntero_final == self.capacidad - 1:\n",
    "      return True\n",
    "\n",
    "    # Segunda Parte pos m hasta pos n - 1\n",
    "    if puntero_inicial == self.capacidad - 1 and puntero_final == self.total - 1:\n",
    "      return True\n",
    "\n",
    "  def Encolar_1(self, valor):\n",
    "    if self.ColaLlena(self.P1, self.F1) != True:\n",
    "      self.P1 = (self.P1 + 1) % self.capacidad\n",
    "      self.V[self.P1] = valor\n",
    "    else:\n",
    "      print(\"La cola 1 esta llena\")\n",
    "\n",
    "  def Encolar_2(self, valor):\n",
    "    if self.ColaLlena(self.P2, self.F2) != True:\n",
    "      self.P2 = ((self.P2 - self.capacidad + 1) % (self.total - self.capacidad)) + self.capacidad\n",
    "      # P2 = ((P2 - m + 1) % (n - m)) + m\n",
    "      self.V[self.P2] = valor\n",
    "    else:\n",
    "      print(\"La cola 2 esta llena\")\n",
    "\n",
    "  def Mostrar(self):\n",
    "    if self.ColaVacia(self.P1, self.F1) == True:\n",
    "      return None\n",
    "    if self.ColaVacia(self.P2, self.F2) == True:\n",
    "      return None\n",
    "    print(self.V)"
   ]
  },
  {
   "cell_type": "code",
   "execution_count": 16,
   "metadata": {},
   "outputs": [
    {
     "name": "stdout",
     "output_type": "stream",
     "text": [
      "La cola 2 esta llena\n",
      "La cola 2 esta llena\n",
      "[5, 220, 880, 66, 55, 6, 10, 7, 99, 100]\n"
     ]
    }
   ],
   "source": [
    "n = 10\n",
    "Lista = A2CC(n)\n",
    "Lista.Encolar_1(5)\n",
    "Lista.Encolar_2(6)\n",
    "Lista.Encolar_2(10)\n",
    "Lista.Encolar_2(7)\n",
    "Lista.Encolar_2(99)\n",
    "Lista.Encolar_2(100)\n",
    "Lista.Encolar_1(220)\n",
    "Lista.Encolar_1(880)\n",
    "Lista.Encolar_1(66)\n",
    "Lista.Encolar_1(55)\n",
    "Lista.Encolar_2(74)\n",
    "Lista.Encolar_2(72)\n",
    "Lista.Mostrar()\n",
    "\n"
   ]
  }
 ],
 "metadata": {
  "kernelspec": {
   "display_name": "Python 3",
   "language": "python",
   "name": "python3"
  },
  "language_info": {
   "codemirror_mode": {
    "name": "ipython",
    "version": 3
   },
   "file_extension": ".py",
   "mimetype": "text/x-python",
   "name": "python",
   "nbconvert_exporter": "python",
   "pygments_lexer": "ipython3",
   "version": "3.12.4"
  }
 },
 "nbformat": 4,
 "nbformat_minor": 2
}
