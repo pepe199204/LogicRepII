{
 "cells": [
  {
   "cell_type": "markdown",
   "metadata": {},
   "source": [
    "#Pilas"
   ]
  },
  {
   "cell_type": "code",
   "execution_count": 1,
   "metadata": {},
   "outputs": [],
   "source": [
    "class Pila:\n",
    "    def __init__(self, n):\n",
    "        self.V = [None]*n\n",
    "        self.cima = -1 # Puntero\n",
    "        \n",
    "    def PilaVacia(self):\n",
    "        if self.cima == -1: # Cima esta al inicio del arreglo o lista\n",
    "            return True\n",
    "        \n",
    "    def PilaLlena(self):\n",
    "        if self.cima == len(self.V) - 1:  # Cima esta al final del arreglo o lista\n",
    "            return True\n",
    "    \n",
    "    def Apilar(self, valor):\n",
    "        if self.PilaLlena() == True:\n",
    "            print(\"La pila está llena\")\n",
    "            return\n",
    "        else:\n",
    "            self.cima += 1\n",
    "            self.V[self.cima] = valor\n",
    "    \n",
    "    def Desapilar(self):\n",
    "        if self.PilaVacia () == True:\n",
    "            print(\"La pila está vacía\")\n",
    "            return\n",
    "        else:\n",
    "            Valor_Eliminar = self.V.pop(self.cima)\n",
    "            self.cima -= 1\n",
    "            return Valor_Eliminar\n",
    "    \n",
    "    def Mostar(self):\n",
    "        print(self.V)"
   ]
  },
  {
   "cell_type": "code",
   "execution_count": 5,
   "metadata": {},
   "outputs": [
    {
     "name": "stdout",
     "output_type": "stream",
     "text": [
      "[7, 10, 5, 85, 100]\n"
     ]
    }
   ],
   "source": [
    "n = 5\n",
    "Lista = Pila(n)\n",
    "Lista.Apilar(7)\n",
    "Lista.Apilar(10)\n",
    "Lista.Apilar(5)\n",
    "Lista.Apilar(85)\n",
    "Lista.Apilar(100)\n",
    "Lista.Mostar()"
   ]
  },
  {
   "cell_type": "code",
   "execution_count": 11,
   "metadata": {},
   "outputs": [
    {
     "name": "stdout",
     "output_type": "stream",
     "text": [
      "La pila está vacía\n",
      "b ==>  None\n",
      "[]\n"
     ]
    }
   ],
   "source": [
    "b = Lista.Desapilar()\n",
    "print(\"b ==> \", b)\n",
    "Lista.Mostar()"
   ]
  }
 ],
 "metadata": {
  "kernelspec": {
   "display_name": "Python 3",
   "language": "python",
   "name": "python3"
  },
  "language_info": {
   "codemirror_mode": {
    "name": "ipython",
    "version": 3
   },
   "file_extension": ".py",
   "mimetype": "text/x-python",
   "name": "python",
   "nbconvert_exporter": "python",
   "pygments_lexer": "ipython3",
   "version": "3.12.4"
  }
 },
 "nbformat": 4,
 "nbformat_minor": 2
}
