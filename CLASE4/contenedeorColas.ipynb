{
 "cells": [
  {
   "cell_type": "markdown",
   "metadata": {},
   "source": [
    "# Cola no circular(CNC)"
   ]
  },
  {
   "cell_type": "code",
   "execution_count": 19,
   "metadata": {},
   "outputs": [],
   "source": [
    "class CNC:\n",
    "    def __init__(self, n):\n",
    "        self.capacidad = n\n",
    "        self.V = [] # Contenedor vacío\n",
    "\n",
    "    def ColaVacia(self):\n",
    "        return len(self.V) == 0 # Valor Booleano True\n",
    "\n",
    "    def ColaLlena(self):\n",
    "        return len(self.V) == self.capacidad # Valor Booleano True\n",
    "\n",
    "    def Encolar(self, valor):\n",
    "        if self.ColaLlena():\n",
    "            print(\"La cola esta llena\")\n",
    "            return\n",
    "        else:\n",
    "            nueva_lista = self.V + [valor] # Ubicar un nuevo valor en el contenedor\n",
    "            self.V[:] = nueva_lista # Actualizar el contenedor\n",
    "\n",
    "    def Desencolar(self):\n",
    "        if self.ColaVacia():\n",
    "            print(\"La cola esta vacía\")\n",
    "            return None\n",
    "            # otra opción es importanto numpy\n",
    "            #import numpy as np\n",
    "            # return np.nan() #NaN\n",
    "        else:\n",
    "            primer_eliminado = self.V[0] # El elemento en la posición 0\n",
    "            nueva_lista = self.V[1:] # Filtrado\n",
    "            # V = [2, 7, 5, 10]\n",
    "            # primer_eliminado = 2\n",
    "            # nueva_lista = [7, 5, 10], actualización de las posiciones\n",
    "            self.V[:] = nueva_lista # Actualizar el contenedor\n",
    "            return self.V\n",
    "            # return self.V, primer_eliminado\n",
    "    \n",
    "    def EncolarNuevo(self, nuev_valor):\n",
    "        if self.ColaLlena():\n",
    "            longitud_actual = len(self.V)\n",
    "            nueva_lista = [None]*(longitud_actual + 1) # Solicitar un nuevo espacio de memoria y por defector es None\n",
    "            for i in range(longitud_actual):\n",
    "                nueva_lista[i] = self.V[i] # Copia del contenedor\n",
    "            # V = [5, 7, 8, 10]\n",
    "            # nueva_lista = [None, None, None, None, None]\n",
    "            # nueva_lista = [5, 7, 8, 10, None]\n",
    "            nueva_lista[longitud_actual] = nuev_valor # Adición ó encolar el nuevo elemento\n",
    "            self.V[:] = nueva_lista\n",
    "        else:\n",
    "            return self.V\n",
    "            \n",
    "    def Mostrar(self):\n",
    "        if self.ColaVacia():\n",
    "            print(\"Cola esta vacía\")\n",
    "        else:\n",
    "            Vector = []\n",
    "            for x in self.V:\n",
    "                Vector.append(x) # fn clásica de Python que apila ó almacena cada elemente que fue almacenado en el contenedor\n",
    "            print(Vector)"
   ]
  },
  {
   "cell_type": "code",
   "execution_count": 20,
   "metadata": {},
   "outputs": [
    {
     "name": "stdout",
     "output_type": "stream",
     "text": [
      "La cola esta llena\n",
      "[7, 10, 17, 25, 9]\n"
     ]
    }
   ],
   "source": [
    "n = 5\n",
    "Lista = CNC(n)\n",
    "Lista.Encolar(7)\n",
    "Lista.Encolar(10)\n",
    "Lista.Encolar(17)\n",
    "Lista.Encolar(25)\n",
    "Lista.Encolar(9)\n",
    "Lista.Encolar(88)\n",
    "Lista.Mostrar()"
   ]
  },
  {
   "cell_type": "code",
   "execution_count": 22,
   "metadata": {},
   "outputs": [
    {
     "name": "stdout",
     "output_type": "stream",
     "text": [
      "[7, 10, 17, 25, 9, 88]\n"
     ]
    }
   ],
   "source": [
    "Lista.EncolarNuevo(88)\n",
    "Lista.Mostrar()\n"
   ]
  },
  {
   "cell_type": "code",
   "execution_count": 28,
   "metadata": {},
   "outputs": [
    {
     "name": "stdout",
     "output_type": "stream",
     "text": [
      "Cola esta vacía\n"
     ]
    }
   ],
   "source": [
    "Lista.Desencolar()\n",
    "Lista.Mostrar()"
   ]
  },
  {
   "cell_type": "markdown",
   "metadata": {},
   "source": [
    "# Cola Circula(CC)"
   ]
  },
  {
   "cell_type": "code",
   "execution_count": 41,
   "metadata": {},
   "outputs": [],
   "source": [
    "class CC:\n",
    "    def __init__(self, n):\n",
    "        self.capacidad = n\n",
    "        self.V = [None]*n # V = [None, None, None, None. None] <--> n = 5\n",
    "        self.primero = self.final = -1\n",
    "\n",
    "    def ColaVacia(self):\n",
    "        return self.primero == -1 # La cola vacía\n",
    "    \n",
    "    def ColaLena(self):\n",
    "        return self.primero == (self.final + 1) % self.capacidad # La cola esta llena\n",
    "    \n",
    "    def EncolarCC(self, valor):\n",
    "        if self.ColaLena():\n",
    "            print(\"La cola esta llena\")\n",
    "            return\n",
    "        else:\n",
    "            if self.ColaVacia():\n",
    "                self.primero = 0\n",
    "            self.final = (self.final + 1) % self.capacidad # Actualiza la posición del puntero final\n",
    "            self.V[self.final] = valor\n",
    "    \n",
    "    def DesencolarCC(self):\n",
    "        if self.ColaVacia():\n",
    "            print(\"La cola esta vacía\")\n",
    "            return None\n",
    "        valor_eliminar = self.V[self.primero]\n",
    "        if self.primero == self.final:\n",
    "            self.primero = self.final = -1\n",
    "        else:\n",
    "            self.primero = (self.primero + 1) % self.capacidad\n",
    "            self.V[self.primero] = None\n",
    "            return self.V\n",
    "    \n",
    "    def MostarCC(self):\n",
    "        if self.ColaVacia():\n",
    "            print(\"La cola esta vacía\")\n",
    "        else:\n",
    "            Vector = []\n",
    "            for x in self.V:\n",
    "                Vector.append(x)\n",
    "            print(Vector)    \n",
    "    "
   ]
  },
  {
   "cell_type": "code",
   "execution_count": 42,
   "metadata": {},
   "outputs": [
    {
     "name": "stdout",
     "output_type": "stream",
     "text": [
      "[7, 78, 14, 7, 8]\n"
     ]
    }
   ],
   "source": [
    "Lista_1 = CC(5)\n",
    "Lista_1.EncolarCC(7)\n",
    "Lista_1.EncolarCC(78)\n",
    "Lista_1.EncolarCC(14)\n",
    "Lista_1.EncolarCC(7)\n",
    "Lista_1.EncolarCC(8)\n",
    "Lista_1.MostarCC()"
   ]
  },
  {
   "cell_type": "code",
   "execution_count": 47,
   "metadata": {},
   "outputs": [
    {
     "name": "stdout",
     "output_type": "stream",
     "text": [
      "La cola esta vacía\n"
     ]
    }
   ],
   "source": [
    "Lista_1.DesencolarCC()\n",
    "Lista_1.MostarCC()"
   ]
  }
 ],
 "metadata": {
  "kernelspec": {
   "display_name": "Python 3",
   "language": "python",
   "name": "python3"
  },
  "language_info": {
   "codemirror_mode": {
    "name": "ipython",
    "version": 3
   },
   "file_extension": ".py",
   "mimetype": "text/x-python",
   "name": "python",
   "nbconvert_exporter": "python",
   "pygments_lexer": "ipython3",
   "version": "3.12.4"
  }
 },
 "nbformat": 4,
 "nbformat_minor": 2
}
